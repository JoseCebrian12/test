{
 "cells": [
  {
   "cell_type": "code",
   "execution_count": 32,
   "metadata": {
    "metadata": {}
   },
   "outputs": [],
   "source": [
    "import psycopg2\n",
    "import pandas as pd\n",
    "import datetime\n",
    "import numpy as np\n",
    "from unidecode import unidecode\n",
    "from sklearn.preprocessing import OneHotEncoder\n",
    "from sklearn.ensemble import IsolationForest\n",
    "import os\n",
    "import sys\n",
    "import pickle\n"
   ]
  },
  {
   "cell_type": "code",
   "execution_count": 2,
   "metadata": {
    "metadata": {}
   },
   "outputs": [
    {
     "ename": "ModuleNotFoundError",
     "evalue": "No module named 'shap'",
     "output_type": "error",
     "traceback": [
      "\u001b[0;31m---------------------------------------------------------------------------\u001b[0m",
      "\u001b[0;31mModuleNotFoundError\u001b[0m                       Traceback (most recent call last)",
      "Cell \u001b[0;32mIn[2], line 1\u001b[0m\n\u001b[0;32m----> 1\u001b[0m \u001b[38;5;28;01mimport\u001b[39;00m \u001b[38;5;21;01mshap\u001b[39;00m\n",
      "\u001b[0;31mModuleNotFoundError\u001b[0m: No module named 'shap'"
     ]
    }
   ],
   "source": [
    "import shap"
   ]
  },
  {
   "cell_type": "markdown",
   "metadata": {},
   "source": [
    "## FEATURE ENGINEERING EXP"
   ]
  },
  {
   "cell_type": "code",
   "execution_count": 33,
   "metadata": {
    "metadata": {}
   },
   "outputs": [],
   "source": [
    "# codificaciones = pd.read_excel(\n",
    "#     r\"cce/src/Data/Codificaciones.xlsx\", sheet_name=\"codificaciones\"\n",
    "# )\n",
    "codificaciones = pd.read_excel(\n",
    "    r\"/home/cnvdba/cce/src_dev/Data/Codificaciones.xlsx\", sheet_name=\"codificaciones\"\n",
    ")\n",
    "codificaciones.Code = codificaciones.Code.str.strip()\n",
    "rename_columns = {\n",
    "    \"creation_date\": \"creationDate\",\n",
    "    \"creation_time\": \"creationTime\",\n",
    "    \"creditor_participant_code\": \"creditorParticipantCode\",\n",
    "    \"debtor_participant_code\": \"debtorParticipantCode\",\n",
    "    \"debtor_type_person\": \"debtorTypeOfPerson\",\n",
    "    \"transaction_type\": \"transactionType\",\n",
    "    \"debtor_id\": \"debtorId\",\n",
    "    \"debtor_id_code\": \"debtorIdCode\",\n",
    "    \"creditor_cci\": \"creditorCCI\",\n",
    "    \"creditor_credit_card\": \"creditorCreditCard\",\n",
    "    \"reason_code\": \"reasonCode\",\n",
    "    \"response_code\": \"responseCode\",\n",
    "    \"creditor_id\": \"creditorId\",\n",
    "    \"creditor_id_code\": \"creditorIdCode\",\n",
    "}\n",
    "\n",
    "dict_column_list = {\n",
    "    \"debtorParticipantCode\": \"participants\",\n",
    "    \"creditorParticipantCode\": \"participants\",\n",
    "    \"transactionType\": \"transaction_type\",\n",
    "    \"currency\": \"currency\",\n",
    "    \"channel\": \"channel\",\n",
    "    \"responseCode\": \"response_code\",\n",
    "    \"reasonCode\": \"reason_code\",\n",
    "}"
   ]
  },
  {
   "cell_type": "code",
   "execution_count": 34,
   "metadata": {
    "metadata": {}
   },
   "outputs": [],
   "source": [
    "_driver = \"PostgreSQL ANSI(x64)\"\n",
    "_server = \"localhost\" #\"10.201.4.25\" \n",
    "_database = \"coemcas\"\n",
    "_username = \"coemcas\"\n",
    "_password = \"C03$CMa5$2099\"\n",
    "_port = \"5432\"\n",
    "PREDICTION_PIPELINE = True\n",
    "\n",
    "def get_database_conection():\n",
    "    connection = psycopg2.connect(\n",
    "        host=_server,\n",
    "        database=_database,\n",
    "        user=_username,\n",
    "        password=_password,\n",
    "        port=_port\n",
    "    )\n",
    "    return connection\n",
    "# 2024-08-15\t2024-08-15 12:25:00.000\t2024-08-15 12:29:59.000"
   ]
  },
  {
   "cell_type": "code",
   "execution_count": 35,
   "metadata": {
    "metadata": {}
   },
   "outputs": [],
   "source": [
    "def data_ingestion_from_database():\n",
    "    #TODO: REVERT SQL QUERY\n",
    "    #Given the first unrun batch it finds, it retrieves all the transactions from the last 7 days (excluding the unrun batch) \n",
    "    if PREDICTION_PIPELINE:\n",
    "        # sql = \"\"\"\n",
    "        #     with \n",
    "\n",
    "        #     run_id_to_process as (\n",
    "        #     select r.run_id, r.run_date \n",
    "        #     from fraud_model_run r \n",
    "        #     where r.run_start_datetime = (select min(r2.run_start_datetime) from fraud_model_run r2 where coalesce(r2.run_process_status,0) = 0)),\n",
    "\n",
    "        #     debtor_ids as (\n",
    "        #     select distinct m.debtor_id, r.run_id as current_run_id, r.run_date as current_run_date\n",
    "        #     from run_id_to_process r\n",
    "        #     inner join stage_ipf_message m on r.run_id = m.run_id)\n",
    "\n",
    "            # select m.*\n",
    "            # from stage_ipf_message m \n",
    "            # inner join debtor_ids d on m.debtor_id = d.debtor_id\n",
    "            # inner join fraud_model_run r on m.run_id = r.run_id\n",
    "            # where r.run_id <= d.current_run_id and r.run_date >= current_run_date - INTERVAL '7 days'\"\"\"\n",
    "        #TODO: temporarily remove duplicate rows (by pk)\n",
    "        # sql = \"\"\"\n",
    "        #     WITH run_id_to_process AS (\n",
    "        #         SELECT r.run_id, r.run_date \n",
    "        #         FROM fraud_model_run r \n",
    "        #         WHERE r.run_start_datetime = (\n",
    "        #             SELECT MIN(r2.run_start_datetime) \n",
    "        #             FROM fraud_model_run r2 \n",
    "        #             WHERE COALESCE(r2.run_process_status, 0) = 0\n",
    "        #         )\n",
    "        #     ),\n",
    "        #     debtor_ids AS (\n",
    "        #         SELECT DISTINCT m.debtor_id, r.run_id AS current_run_id, r.run_date AS current_run_date\n",
    "        #         FROM run_id_to_process r\n",
    "        #         INNER JOIN stage_ipf_message m ON r.run_id = m.run_id\n",
    "        #     )\n",
    "        #     SELECT DISTINCT ON (m.pk) m.*\n",
    "        #     FROM stage_ipf_message m \n",
    "        #     INNER JOIN debtor_ids d ON m.debtor_id = d.debtor_id\n",
    "        #     --INNER JOIN fraud_model_run r ON m.run_id = r.run_id\n",
    "        #     --WHERE r.run_id <= d.current_run_id \n",
    "        #     --AND r.run_date >= current_run_date - INTERVAL '90 days';\n",
    "        #     WHERE m.creation_date BETWEEN d.current_run_date - interval '90 days' AND d.current_run_date;\n",
    "        #     \"\"\"\n",
    "        #PENULTIMO\n",
    "        # sql = \"\"\"\n",
    "        #     WITH run_id_to_process AS (\n",
    "        #         SELECT r.run_id, r.run_date, r.run_end_datetime\n",
    "        #         FROM fraud_model_run r \n",
    "        #         WHERE r.run_start_datetime = (\n",
    "        #                 SELECT MIN(r2.run_start_datetime) \n",
    "        #                 FROM fraud_model_run r2 \n",
    "        #                 WHERE COALESCE(r2.run_process_status, 0) = 0\n",
    "        #         )\n",
    "        #     ),\n",
    "        #     debtor_ids AS (\n",
    "        #         SELECT DISTINCT m.debtor_id, r.run_id AS current_run_id, r.run_date AS current_run_date, r.run_end_datetime\n",
    "        #         FROM run_id_to_process r\n",
    "        #         INNER JOIN stage_ipf_message m ON r.run_id = m.run_id\n",
    "        #     )\n",
    "        #     SELECT DISTINCT ON (m.pk) m.*, d.current_run_id\n",
    "        #     FROM stage_ipf_message m \n",
    "        #     INNER JOIN debtor_ids d ON m.debtor_id = d.debtor_id\n",
    "        #     WHERE m.creation_date BETWEEN d.current_run_date - interval '90 days' AND d.current_run_date\n",
    "        #     AND (\n",
    "        #         m.creation_date < d.current_run_date \n",
    "        #         OR (m.creation_date = d.current_run_date AND m.creation_time <= d.run_end_datetime::time)\n",
    "        #     );\n",
    "        # \"\"\"\n",
    "        #ULTIMO\n",
    "        sql = \"\"\"\n",
    "            WITH run_id_to_process AS (\n",
    "                 SELECT r.run_id, r.run_date, r.run_end_datetime\n",
    "                FROM fraud_model_run r \n",
    "                WHERE r.run_id = '20240828_0057'\n",
    "            ),\n",
    "            debtor_ids AS (\n",
    "                SELECT DISTINCT m.debtor_id, r.run_id AS current_run_id, r.run_date AS current_run_date, r.run_end_datetime\n",
    "                FROM run_id_to_process r\n",
    "                INNER JOIN stage_ipf_message m ON r.run_id = m.run_id\n",
    "            )\n",
    "            SELECT DISTINCT ON (m.pk) m.*, d.current_run_id\n",
    "            FROM stage_ipf_message m \n",
    "            INNER JOIN debtor_ids d ON m.debtor_id = d.debtor_id\n",
    "            WHERE m.run_id = d.current_run_id\n",
    "            OR (\n",
    "                m.run_id != d.current_run_id\n",
    "                AND m.creation_date BETWEEN d.current_run_date - interval '90 days' AND d.current_run_date\n",
    "                AND (\n",
    "                    m.creation_date < d.current_run_date \n",
    "                    OR (m.creation_date = d.current_run_date AND m.creation_time <= d.run_end_datetime::time)\n",
    "                )\n",
    "            );\n",
    "\n",
    "        \"\"\"\n",
    "    else:\n",
    "        # sql = \"\"\"\n",
    "        #     with run_id_to_process as (\n",
    "        #         select distinct creation_date \n",
    "        #         from stage_ipf_message_old \n",
    "        #         order by creation_date desc \n",
    "        #         limit 1\n",
    "        #     ),\n",
    "        #     debtor_ids as (\n",
    "        #     select distinct m.debtor_id, m.creation_date as current_creation_date\n",
    "        #     from stage_ipf_message_old m\n",
    "        #     where m.creation_date >= '2023-05-19') -- in (select creation_date from run_id_to_process))\n",
    "\n",
    "        #     select m.*\n",
    "        #     from stage_ipf_message_old m\n",
    "        #     inner join debtor_ids d on m.debtor_id = d.debtor_id\n",
    "        #     where m.creation_date >= d.current_creation_date - interval '90 days' \n",
    "        # \"\"\"\n",
    "        sql = \"\"\"\n",
    "            with debtor_ids as (\n",
    "                select debtor_id, current_creation_date\n",
    "                from (\n",
    "                    select \n",
    "                        debtor_id, \n",
    "                        current_creation_date,\n",
    "                        row_number() over (partition by current_creation_date order by random()) as rn\n",
    "                    from (\n",
    "                        select \n",
    "                            distinct m.debtor_id, \n",
    "                            m.creation_date as current_creation_date\n",
    "                        from stage_ipf_message_old m\n",
    "                        where m.creation_date between '2022-08-30' and '2022-09-02'\n",
    "                    ) distinct_pairs\n",
    "                ) numbered_pairs\n",
    "                where rn <= 200000\n",
    "            ),\n",
    "            filtered_rows as (\n",
    "                select \n",
    "                    m.*, \n",
    "                    row_number() over (partition by m.pk) as row_num\n",
    "                from stage_ipf_message_old m\n",
    "                inner join debtor_ids d on m.debtor_id = d.debtor_id\n",
    "                where m.creation_date between d.current_creation_date - interval '7 days' and d.current_creation_date\n",
    "            )\n",
    "            select *\n",
    "            from filtered_rows\n",
    "            where row_num = 1;\n",
    "        \"\"\"\n",
    "        #     sql = \"\"\"with \n",
    "\n",
    "        # run_id_to_process as (\n",
    "        # select r.run_id, r.run_date \n",
    "        # from fraud_model_run r \n",
    "        # where r.run_id = '20240410_0168'),\n",
    "\n",
    "        # debtor_ids as (\n",
    "        # select distinct m.debtor_id, r.run_id as current_run_id, r.run_date as current_run_date\n",
    "        # from run_id_to_process r\n",
    "        # inner join stage_ipf_message m on r.run_id = m.run_id)\n",
    "\n",
    "        # select m.*\n",
    "        # from stage_ipf_message m \n",
    "        # inner join debtor_ids d on m.debtor_id = d.debtor_id\n",
    "        # inner join fraud_model_run r on m.run_id = r.run_id\n",
    "        # where r.run_id <= d.current_run_id and r.run_date >= current_run_date - INTERVAL '7 days'\"\"\"\n",
    "\n",
    "    connection = None\n",
    "    # Establish the database connection\n",
    "    connection = get_database_conection()\n",
    "    cursor = connection.cursor()\n",
    "    \n",
    "    print(f\"EXEC - Started query to get AV_consolidado rows at {datetime.datetime.now()}\")\n",
    "    cursor.execute(sql)\n",
    "    print(f\"EXEC - Ended query (cursor.execute) to get AV_consolidado rows at {datetime.datetime.now()}\")\n",
    "    # Obtener los nombres de las columnas\n",
    "    column_names = [desc[0] for desc in cursor.description]\n",
    "    # Obtener los resultados como una lista de listas\n",
    "    results = cursor.fetchall()\n",
    "    print(f\"EXEC - Ended query (cursor.fetchall) to get AV_consolidado rows at {datetime.datetime.now()}\")\n",
    "    cursor.close()\n",
    "    if connection is not None:\n",
    "        connection.close()\n",
    "    # Convertir los resultados en un DataFrame\n",
    "    AV_consolidado = pd.DataFrame(results, columns=column_names)\n",
    "    print(column_names)\n",
    "    return AV_consolidado"
   ]
  },
  {
   "cell_type": "code",
   "execution_count": 36,
   "metadata": {
    "metadata": {}
   },
   "outputs": [
    {
     "name": "stdout",
     "output_type": "stream",
     "text": [
      "EXEC - Started query to get AV_consolidado rows at 2024-09-05 10:32:21.205434\n",
      "EXEC - Ended query (cursor.execute) to get AV_consolidado rows at 2024-09-05 10:32:29.785886\n",
      "EXEC - Ended query (cursor.fetchall) to get AV_consolidado rows at 2024-09-05 10:32:32.475598\n",
      "['pk', 'debtor_id', 'creditor_cci', 'creation_date', 'creation_time', 'channel', 'currency', 'creditor_participant_code', 'debtor_participant_code', 'debtor_type_person', 'transaction_type', 'debtor_id_code', 'creditor_credit_card', 'reason_code', 'response_code', 'creditor_id', 'creditor_id_code', 'message_id', 'trace', 'instruction_id', 'run_id', 'last_modified', 'log_timestamp_replica', 'same_customer_flag', 'current_run_id']\n"
     ]
    }
   ],
   "source": [
    "AV_consolidado = data_ingestion_from_database()"
   ]
  },
  {
   "cell_type": "code",
   "execution_count": 37,
   "metadata": {
    "metadata": {}
   },
   "outputs": [],
   "source": [
    "if PREDICTION_PIPELINE:\n",
    "    max_run_id = AV_consolidado.iloc[0][\"current_run_id\"]\n",
    "else:\n",
    "    max_run_id = \"XXX\"\n",
    "drop_cols_av_cons = (\n",
    "    ['log_timestamp_replica', 'last_modified', 'current_run_id', 'same_customer_flag'] \n",
    "    if PREDICTION_PIPELINE \n",
    "    else ['last_modified']\n",
    ")\n",
    "AV_consolidado = AV_consolidado.drop(columns=drop_cols_av_cons)"
   ]
  },
  {
   "cell_type": "code",
   "execution_count": 38,
   "metadata": {
    "metadata": {}
   },
   "outputs": [
    {
     "data": {
      "text/plain": [
       "'20240904_0101'"
      ]
     },
     "execution_count": 38,
     "metadata": {},
     "output_type": "execute_result"
    }
   ],
   "source": [
    "max_run_id"
   ]
  },
  {
   "cell_type": "code",
   "execution_count": 39,
   "metadata": {
    "metadata": {}
   },
   "outputs": [
    {
     "data": {
      "text/plain": [
       "(646844, 21)"
      ]
     },
     "execution_count": 39,
     "metadata": {},
     "output_type": "execute_result"
    }
   ],
   "source": [
    "AV_consolidado.shape"
   ]
  },
  {
   "cell_type": "code",
   "execution_count": 40,
   "metadata": {
    "metadata": {}
   },
   "outputs": [
    {
     "name": "stdout",
     "output_type": "stream",
     "text": [
      "debtorParticipantCode\n"
     ]
    },
    {
     "name": "stderr",
     "output_type": "stream",
     "text": [
      "/tmp/ipykernel_937019/2169875756.py:72: FutureWarning: A value is trying to be set on a copy of a DataFrame or Series through chained assignment using an inplace method.\n",
      "The behavior will change in pandas 3.0. This inplace method will never work because the intermediate object on which we are setting values always behaves as a copy.\n",
      "\n",
      "For example, when doing 'df[col].method(value, inplace=True)', try using 'df.method({col: value}, inplace=True)' or df[col] = df[col].method(value) instead, to perform the operation inplace on the original object.\n",
      "\n",
      "\n",
      "  AV_consolidado[column_to_decode].fillna(\"\", inplace=True)\n"
     ]
    },
    {
     "name": "stdout",
     "output_type": "stream",
     "text": [
      "creditorParticipantCode\n"
     ]
    },
    {
     "name": "stderr",
     "output_type": "stream",
     "text": [
      "/tmp/ipykernel_937019/2169875756.py:72: FutureWarning: A value is trying to be set on a copy of a DataFrame or Series through chained assignment using an inplace method.\n",
      "The behavior will change in pandas 3.0. This inplace method will never work because the intermediate object on which we are setting values always behaves as a copy.\n",
      "\n",
      "For example, when doing 'df[col].method(value, inplace=True)', try using 'df.method({col: value}, inplace=True)' or df[col] = df[col].method(value) instead, to perform the operation inplace on the original object.\n",
      "\n",
      "\n",
      "  AV_consolidado[column_to_decode].fillna(\"\", inplace=True)\n"
     ]
    },
    {
     "name": "stdout",
     "output_type": "stream",
     "text": [
      "transactionType\n"
     ]
    },
    {
     "name": "stderr",
     "output_type": "stream",
     "text": [
      "/tmp/ipykernel_937019/2169875756.py:72: FutureWarning: A value is trying to be set on a copy of a DataFrame or Series through chained assignment using an inplace method.\n",
      "The behavior will change in pandas 3.0. This inplace method will never work because the intermediate object on which we are setting values always behaves as a copy.\n",
      "\n",
      "For example, when doing 'df[col].method(value, inplace=True)', try using 'df.method({col: value}, inplace=True)' or df[col] = df[col].method(value) instead, to perform the operation inplace on the original object.\n",
      "\n",
      "\n",
      "  AV_consolidado[column_to_decode].fillna(\"\", inplace=True)\n"
     ]
    },
    {
     "name": "stdout",
     "output_type": "stream",
     "text": [
      "currency\n"
     ]
    },
    {
     "name": "stderr",
     "output_type": "stream",
     "text": [
      "/tmp/ipykernel_937019/2169875756.py:72: FutureWarning: A value is trying to be set on a copy of a DataFrame or Series through chained assignment using an inplace method.\n",
      "The behavior will change in pandas 3.0. This inplace method will never work because the intermediate object on which we are setting values always behaves as a copy.\n",
      "\n",
      "For example, when doing 'df[col].method(value, inplace=True)', try using 'df.method({col: value}, inplace=True)' or df[col] = df[col].method(value) instead, to perform the operation inplace on the original object.\n",
      "\n",
      "\n",
      "  AV_consolidado[column_to_decode].fillna(\"\", inplace=True)\n"
     ]
    },
    {
     "name": "stdout",
     "output_type": "stream",
     "text": [
      "channel\n"
     ]
    },
    {
     "name": "stderr",
     "output_type": "stream",
     "text": [
      "/tmp/ipykernel_937019/2169875756.py:72: FutureWarning: A value is trying to be set on a copy of a DataFrame or Series through chained assignment using an inplace method.\n",
      "The behavior will change in pandas 3.0. This inplace method will never work because the intermediate object on which we are setting values always behaves as a copy.\n",
      "\n",
      "For example, when doing 'df[col].method(value, inplace=True)', try using 'df.method({col: value}, inplace=True)' or df[col] = df[col].method(value) instead, to perform the operation inplace on the original object.\n",
      "\n",
      "\n",
      "  AV_consolidado[column_to_decode].fillna(\"\", inplace=True)\n"
     ]
    },
    {
     "name": "stdout",
     "output_type": "stream",
     "text": [
      "responseCode\n"
     ]
    },
    {
     "name": "stderr",
     "output_type": "stream",
     "text": [
      "/tmp/ipykernel_937019/2169875756.py:72: FutureWarning: A value is trying to be set on a copy of a DataFrame or Series through chained assignment using an inplace method.\n",
      "The behavior will change in pandas 3.0. This inplace method will never work because the intermediate object on which we are setting values always behaves as a copy.\n",
      "\n",
      "For example, when doing 'df[col].method(value, inplace=True)', try using 'df.method({col: value}, inplace=True)' or df[col] = df[col].method(value) instead, to perform the operation inplace on the original object.\n",
      "\n",
      "\n",
      "  AV_consolidado[column_to_decode].fillna(\"\", inplace=True)\n"
     ]
    },
    {
     "name": "stdout",
     "output_type": "stream",
     "text": [
      "reasonCode\n"
     ]
    },
    {
     "name": "stderr",
     "output_type": "stream",
     "text": [
      "/tmp/ipykernel_937019/2169875756.py:72: FutureWarning: A value is trying to be set on a copy of a DataFrame or Series through chained assignment using an inplace method.\n",
      "The behavior will change in pandas 3.0. This inplace method will never work because the intermediate object on which we are setting values always behaves as a copy.\n",
      "\n",
      "For example, when doing 'df[col].method(value, inplace=True)', try using 'df.method({col: value}, inplace=True)' or df[col] = df[col].method(value) instead, to perform the operation inplace on the original object.\n",
      "\n",
      "\n",
      "  AV_consolidado[column_to_decode].fillna(\"\", inplace=True)\n"
     ]
    },
    {
     "name": "stdout",
     "output_type": "stream",
     "text": [
      "TOT TIME 4.369802951812744\n"
     ]
    }
   ],
   "source": [
    "import time\n",
    "# TODO: lentisimo\n",
    "\n",
    "# AV_consolidado=AV_consolidado.rename(columns=rename_columns)\n",
    "# AV_consolidado_original_stage = AV_consolidado.copy()\n",
    "# AV_consolidado_original = pd.DataFrame()\n",
    "# AV_consolidado_original_values_set = pd.DataFrame()\n",
    "# AV_consolidado_completed = pd.DataFrame()\n",
    "# for key, value in dict_column_list.items():\n",
    "#     column_to_decode = key\n",
    "#     column_to_decode_index = AV_consolidado.columns.get_loc(column_to_decode)\n",
    "\n",
    "#     codificaciones_stage = codificaciones[codificaciones.List == value]  # \"participants\"]\n",
    "#     AV_consolidado[column_to_decode] = AV_consolidado[column_to_decode].fillna(\"\")\n",
    "#     AV_consolidado_stage = pd.merge(AV_consolidado,codificaciones_stage[[\"Code\", \"Value\"]],left_on=column_to_decode,right_on=\"Code\",how=\"left\",)\n",
    "\n",
    "#     if column_to_decode not in [\"reasonCode\"]:\n",
    "#         # column_data = AV_consolidado_stage[\"Value\"].fillna(\"invalid_\"+AV_consolidado_stage[column_to_decode])\n",
    "#         column_data = AV_consolidado_stage[\"Value\"].fillna(\"invalid\")\n",
    "#     else:\n",
    "#         column_data = AV_consolidado_stage[\"Value\"]\n",
    "\n",
    "#     AV_consolidado_stage.drop([\"Value\", \"Code\", column_to_decode], axis=1, inplace=True)\n",
    "#     AV_consolidado_stage.insert(column_to_decode_index, column_to_decode, column_data)\n",
    "#     AV_consolidado = AV_consolidado_stage.copy()\n",
    "# AV_consolidado = AV_consolidado.rename(\n",
    "#     columns={\"debtorParticipantCode\": \"debtorParticipant\",\n",
    "#         \"creditorParticipantCode\": \"creditorParticipant\",\n",
    "#     }\n",
    "# )\n",
    "\n",
    "# ALTERNATIVA\n",
    "# Renombrar columnas in-place\n",
    "AV_consolidado.rename(columns=rename_columns, inplace=True)\n",
    "# Recorrer el diccionario para procesar cada columna\n",
    "# print(dict_column_list)\n",
    "# start = time.time()\n",
    "# for column_to_decode, value in dict_column_list.items():\n",
    "#     print(column_to_decode)\n",
    "#     # Filtrar codificaciones relevantes\n",
    "#     codificaciones_stage = codificaciones[codificaciones['List'] == value][[\"Code\", \"Value\"]]\n",
    "\n",
    "#     # Rellenar valores nulos en la columna a decodificar\n",
    "#     AV_consolidado[column_to_decode].fillna(\"\", inplace=True)\n",
    "\n",
    "#     # Realizar el merge de forma más eficiente\n",
    "#     AV_consolidado = pd.merge(\n",
    "#         AV_consolidado,\n",
    "#         codificaciones_stage[['Code', 'Value']],\n",
    "#         left_on=column_to_decode,\n",
    "#         right_on='Code',\n",
    "#         how='left'\n",
    "#     )\n",
    "\n",
    "#     # Asignar valores decodificados o marcar como 'invalid' in-place\n",
    "#     if column_to_decode == \"reasonCode\":\n",
    "#         AV_consolidado[column_to_decode] = AV_consolidado['Value']\n",
    "#     else:\n",
    "#         AV_consolidado[column_to_decode] = AV_consolidado['Value'].fillna(\"invalid\")\n",
    "\n",
    "#     # Eliminar columnas auxiliares para liberar memoria\n",
    "#     AV_consolidado.drop(['Value', 'Code'], axis=1, inplace=True)\n",
    "####NUEVA\n",
    "start = time.time()\n",
    "for column_to_decode, value in dict_column_list.items():\n",
    "    print(column_to_decode)\n",
    "    # Filtrar codificaciones relevantes\n",
    "    codificaciones_stage = codificaciones[codificaciones['List'] == value][[\"Code\", \"Value\"]]\n",
    "    codificaciones_dict = codificaciones_stage.set_index('Code')['Value'].to_dict()\n",
    "\n",
    "    # Rellenar valores nulos en la columna a decodificar\n",
    "    AV_consolidado[column_to_decode].fillna(\"\", inplace=True)\n",
    "\n",
    "    # Realizar el merge de forma más eficiente\n",
    "    AV_consolidado['temp'] = AV_consolidado[column_to_decode].map(codificaciones_dict)\n",
    "\n",
    "    if column_to_decode not in [\"reasonCode\"]:\n",
    "        AV_consolidado['temp'] = AV_consolidado['temp'].fillna(\"invalid\")\n",
    " \n",
    "    # Insertar la columna mapeada en el lugar adecuado\n",
    "    AV_consolidado[column_to_decode] = AV_consolidado['temp']\n",
    "    AV_consolidado.drop('temp', axis=1, inplace=True)\n",
    "# Renombrar columnas finales in-place\n",
    "AV_consolidado.rename(\n",
    "    columns={\n",
    "        \"debtorParticipantCode\": \"debtorParticipant\",\n",
    "        \"creditorParticipantCode\": \"creditorParticipant\",\n",
    "    },\n",
    "    inplace=True\n",
    ")\n",
    "end = time.time()\n",
    "print(\"TOT TIME\", end - start)"
   ]
  },
  {
   "cell_type": "code",
   "execution_count": 41,
   "metadata": {
    "metadata": {}
   },
   "outputs": [
    {
     "data": {
      "text/plain": [
       "0     2024-06-06\n",
       "1     2024-06-07\n",
       "2     2024-06-08\n",
       "3     2024-06-09\n",
       "4     2024-06-10\n",
       "         ...    \n",
       "86    2024-08-31\n",
       "87    2024-09-01\n",
       "88    2024-09-02\n",
       "89    2024-09-03\n",
       "90    2024-09-04\n",
       "Name: creationDate, Length: 91, dtype: object"
      ]
     },
     "execution_count": 41,
     "metadata": {},
     "output_type": "execute_result"
    }
   ],
   "source": [
    "AV_consolidado.creationDate.drop_duplicates().sort_values().reset_index(drop=True)"
   ]
  },
  {
   "cell_type": "code",
   "execution_count": 42,
   "metadata": {
    "metadata": {}
   },
   "outputs": [],
   "source": [
    "AV_consolidado[\"flag_invalid\"] = (\n",
    "    AV_consolidado.astype(str).apply(lambda x: x == \"invalid\").any(axis=1)\n",
    ").astype(\"uint8\")\n",
    "\n",
    "AV_consolidado_original_values_set_stage = AV_consolidado.copy()"
   ]
  },
  {
   "cell_type": "code",
   "execution_count": 43,
   "metadata": {
    "metadata": {}
   },
   "outputs": [
    {
     "data": {
      "text/plain": [
       "0     2024-06-06\n",
       "1     2024-06-07\n",
       "2     2024-06-08\n",
       "3     2024-06-09\n",
       "4     2024-06-10\n",
       "         ...    \n",
       "86    2024-08-31\n",
       "87    2024-09-01\n",
       "88    2024-09-02\n",
       "89    2024-09-03\n",
       "90    2024-09-04\n",
       "Name: creationDate, Length: 91, dtype: object"
      ]
     },
     "execution_count": 43,
     "metadata": {},
     "output_type": "execute_result"
    }
   ],
   "source": [
    "AV_consolidado.creationDate.drop_duplicates().sort_values().reset_index(drop=True)"
   ]
  },
  {
   "cell_type": "code",
   "execution_count": 44,
   "metadata": {
    "metadata": {}
   },
   "outputs": [],
   "source": [
    "AV_consolidado.reset_index(drop=True, inplace=True)\n",
    "rows_dropped = (\n",
    "    AV_consolidado_original_values_set_stage.shape[0] - AV_consolidado.shape[0]\n",
    ")\n",
    "if rows_dropped > 0:\n",
    "    print(f\"{rows_dropped} rows dropped because any value was invalid\")\n",
    "AV_consolidado.drop([\"flag_invalid\"], axis=1, inplace=True)"
   ]
  },
  {
   "cell_type": "code",
   "execution_count": 45,
   "metadata": {
    "metadata": {}
   },
   "outputs": [
    {
     "data": {
      "text/plain": [
       "0     2024-06-06\n",
       "1     2024-06-07\n",
       "2     2024-06-08\n",
       "3     2024-06-09\n",
       "4     2024-06-10\n",
       "         ...    \n",
       "86    2024-08-31\n",
       "87    2024-09-01\n",
       "88    2024-09-02\n",
       "89    2024-09-03\n",
       "90    2024-09-04\n",
       "Name: creationDate, Length: 91, dtype: object"
      ]
     },
     "execution_count": 45,
     "metadata": {},
     "output_type": "execute_result"
    }
   ],
   "source": [
    "AV_consolidado.creationDate.drop_duplicates().sort_values().reset_index(drop=True)"
   ]
  },
  {
   "cell_type": "code",
   "execution_count": 46,
   "metadata": {
    "metadata": {}
   },
   "outputs": [],
   "source": [
    "# vars_to_discard = [\n",
    "#     \"pk\",\n",
    "#     \"reasonCode\",\n",
    "#     \"run_id\",\n",
    "#     \"trace\",\n",
    "#     \"instruction_id\",\n",
    "#     \"message_id\",\n",
    "# ]  # 1\n",
    "# vars_to_feature_engineer = [\"creationDate\", \"creationTime\"]  # 2\n",
    "# vars_to_ohe = [\n",
    "#     \"debtorTypeOfPerson\",\n",
    "#     \"debtorParticipant\",\n",
    "#     \"creditorParticipant\",\n",
    "#     \"transactionType\",\n",
    "#     \"currency\",\n",
    "#     \"channel\",\n",
    "#     \"responseCode\",\n",
    "# ]  # 3\n",
    "\n",
    "# # 1 vars_to_discard\n",
    "# AV_consolidado.drop(vars_to_discard, axis=1, inplace=True)\n",
    "\n",
    "# # 2 vars_to_feature_engineer\n",
    "# AV_consolidado.rename(\n",
    "#     columns={\n",
    "#         \"creationDate\": \"creationDate_stage\",\n",
    "#         \"creationTime\": \"creationTime_stage\",\n",
    "#     },\n",
    "#     inplace=True,\n",
    "# )\n",
    "\n",
    "# AV_consolidado[\"creationDate\"] = pd.to_datetime(\n",
    "#     AV_consolidado[\"creationDate_stage\"]\n",
    "# ).dt.strftime(\"%Y%m%d\")\n",
    "# AV_consolidado[\"creationTime_stage\"] = (\n",
    "#     AV_consolidado[\"creationTime_stage\"].astype(\"string\").str.replace(\":\", \"\")\n",
    "# )\n",
    "# AV_consolidado[\"creationTime\"] = pd.to_datetime(\n",
    "#     AV_consolidado[\"creationTime_stage\"], format=\"%H%M%S\"\n",
    "# ).dt.time\n",
    "\n",
    "# AV_consolidado.drop(\n",
    "#     [\"creationDate_stage\", \"creationTime_stage\"], axis=1, inplace=True\n",
    "# )\n",
    "# AV_consolidado[\"hourSin\"] = AV_consolidado[\"creationTime\"].apply(\n",
    "#     lambda x: np.sin(2 * np.pi * x.hour / 24.0)\n",
    "# )\n",
    "# AV_consolidado[\"hourCos\"] = AV_consolidado[\"creationTime\"].apply(\n",
    "#     lambda x: np.cos(2 * np.pi * x.hour / 24.0)\n",
    "# )\n",
    "# AV_consolidado[\"creationDate\"] = pd.to_datetime(AV_consolidado[\"creationDate\"])\n",
    "\n",
    "# AV_consolidado[\"dayOfYearSin\"] = AV_consolidado[\"creationDate\"].apply(\n",
    "#     lambda x: np.sin(2 * np.pi * x.timetuple().tm_yday / 365.0)\n",
    "# )\n",
    "# AV_consolidado[\"dayOfYearCos\"] = AV_consolidado[\"creationDate\"].apply(\n",
    "#     lambda x: np.cos(2 * np.pi * x.timetuple().tm_yday / 365.0)\n",
    "# )\n",
    "# AV_consolidado[\"dayOfMonthSin\"] = AV_consolidado[\"creationDate\"].apply(\n",
    "#     lambda x: np.sin(2 * np.pi * x.day / 31.0)\n",
    "# )\n",
    "# AV_consolidado[\"dayOfMonthCos\"] = AV_consolidado[\"creationDate\"].apply(\n",
    "#     lambda x: np.cos(2 * np.pi * x.day / 31.0)\n",
    "# )\n",
    "# AV_consolidado[\"dayOfWeekSin\"] = AV_consolidado[\"creationDate\"].apply(\n",
    "#     lambda x: np.sin(2 * np.pi * x.weekday() / 7.0)\n",
    "# )\n",
    "# AV_consolidado[\"dayOfWeekCos\"] = AV_consolidado[\"creationDate\"].apply(\n",
    "#     lambda x: np.cos(2 * np.pi * x.weekday() / 7.0)\n",
    "# )\n",
    "# AV_consolidado[\"monthSin\"] = AV_consolidado[\"creationDate\"].apply(\n",
    "#     lambda x: np.sin(2 * np.pi * x.month / 12.0)\n",
    "# )\n",
    "# AV_consolidado[\"monthCos\"] = AV_consolidado[\"creationDate\"].apply(\n",
    "#     lambda x: np.cos(2 * np.pi * x.month / 12.0)\n",
    "# )\n",
    "\n",
    "# AV_consolidado.drop(vars_to_feature_engineer, axis=1, inplace=True)\n",
    "\n",
    "# # 3 vars_to_ohe\n",
    "# AV_consolidado_3_stage = AV_consolidado.copy()\n",
    "\n",
    "# # Cambiar formato a \"snake_case\" sin tildes\n",
    "# for column in vars_to_ohe:\n",
    "#     AV_consolidado_3_stage[column] = (\n",
    "#         AV_consolidado_3_stage[column]\n",
    "#         .astype(str)\n",
    "#         .apply(lambda x: unidecode(x).replace(\" \", \"_\").lower())\n",
    "#     )"
   ]
  },
  {
   "cell_type": "code",
   "execution_count": 47,
   "metadata": {
    "metadata": {}
   },
   "outputs": [],
   "source": [
    "vars_to_discard = [\n",
    "    \"pk\",\n",
    "    \"reasonCode\",\n",
    "    \"run_id\",\n",
    "    \"trace\",\n",
    "    \"instruction_id\",\n",
    "    \"message_id\",\n",
    "]  # 1\n",
    "vars_to_feature_engineer = [\"creationDate\", \"creationTime\"]  # 2\n",
    "vars_to_ohe = [\n",
    "    \"debtorTypeOfPerson\",\n",
    "    \"debtorParticipant\",\n",
    "    \"creditorParticipant\",\n",
    "    \"transactionType\",\n",
    "    \"currency\",\n",
    "    \"channel\",\n",
    "    \"responseCode\",\n",
    "]  # 3\n"
   ]
  },
  {
   "cell_type": "code",
   "execution_count": 48,
   "metadata": {
    "metadata": {}
   },
   "outputs": [],
   "source": [
    "########NEW\n",
    "# 1 vars_to_discard\n",
    "AV_consolidado = AV_consolidado.drop(columns=vars_to_discard)\n",
    "\n",
    "# 2 vars_to_feature_engineer\n",
    "AV_consolidado = AV_consolidado.rename(\n",
    "    columns={\n",
    "        \"creationDate\": \"creationDate_stage\",\n",
    "        \"creationTime\": \"creationTime_stage\",\n",
    "    }\n",
    ")\n",
    "\n",
    "# Conversión de fechas y horas\n",
    "AV_consolidado[\"creationDate_stage\"] = pd.to_datetime(AV_consolidado[\"creationDate_stage\"])\n",
    "AV_consolidado[\"creationTime_stage\"] = AV_consolidado[\"creationTime_stage\"].astype(str).str.replace(\":\", \"\", regex=False)\n",
    "AV_consolidado[\"creationTime\"] = pd.to_datetime(AV_consolidado[\"creationTime_stage\"], format=\"%H%M%S\").dt.time\n",
    "\n",
    "# Creación de características cíclicas\n",
    "def create_cyclic_features(df):\n",
    "    df[\"hourSin\"] = np.sin(2 * np.pi * df[\"creationTime\"].apply(lambda x: x.hour) / 24.0)\n",
    "    df[\"hourCos\"] = np.cos(2 * np.pi * df[\"creationTime\"].apply(lambda x: x.hour) / 24.0)\n",
    "    df[\"dayOfYearSin\"] = np.sin(2 * np.pi * df[\"creationDate_stage\"].dt.dayofyear / 365.0)\n",
    "    df[\"dayOfYearCos\"] = np.cos(2 * np.pi * df[\"creationDate_stage\"].dt.dayofyear / 365.0)\n",
    "    df[\"dayOfMonthSin\"] = np.sin(2 * np.pi * df[\"creationDate_stage\"].dt.day / 31.0)\n",
    "    df[\"dayOfMonthCos\"] = np.cos(2 * np.pi * df[\"creationDate_stage\"].dt.day / 31.0)\n",
    "    df[\"dayOfWeekSin\"] = np.sin(2 * np.pi * df[\"creationDate_stage\"].dt.weekday / 7.0)\n",
    "    df[\"dayOfWeekCos\"] = np.cos(2 * np.pi * df[\"creationDate_stage\"].dt.weekday / 7.0)\n",
    "    df[\"monthSin\"] = np.sin(2 * np.pi * df[\"creationDate_stage\"].dt.month / 12.0)\n",
    "    df[\"monthCos\"] = np.cos(2 * np.pi * df[\"creationDate_stage\"].dt.month / 12.0)\n",
    "    return df\n",
    "\n",
    "vars_to_feature_engineer = [\"creationTime\"]  # 2\n",
    "\n",
    "AV_consolidado = create_cyclic_features(AV_consolidado)\n",
    "\n",
    "# Eliminación de columnas intermedias\n",
    "AV_consolidado = AV_consolidado.drop(columns=[\"creationDate_stage\", \"creationTime_stage\", *vars_to_feature_engineer])\n",
    "\n",
    "# 3 vars_to_ohe\n",
    "AV_consolidado_3_stage = AV_consolidado.copy()\n",
    "\n",
    "# # Cambiar formato a \"snake_case\" sin tildes\n",
    "# for column in vars_to_ohe:\n",
    "#     AV_consolidado_3_stage[column] = (\n",
    "#         AV_consolidado_3_stage[column]\n",
    "#         .astype(str)\n",
    "#         .apply(lambda x: unidecode(x).replace(\" \", \"_\").lower())\n",
    "#     )\n",
    "#this is faster. from 5 1/2 minutes went to 1 1/2 minutes.\n",
    "# Cambiar formato a \"snake_case\" sin tildes\n",
    "for column in vars_to_ohe:\n",
    "    AV_consolidado_3_stage[column] = (\n",
    "        AV_consolidado_3_stage[column]\n",
    "        .astype(str)\n",
    "        .apply(unidecode)\n",
    "        .str.replace(\" \", \"_\", regex=False)\n",
    "        .str.lower()\n",
    "    )"
   ]
  },
  {
   "cell_type": "code",
   "execution_count": 49,
   "metadata": {
    "metadata": {}
   },
   "outputs": [
    {
     "data": {
      "text/plain": [
       "Index(['debtorId', 'creditorCCI', 'channel', 'currency', 'creditorParticipant',\n",
       "       'debtorParticipant', 'debtorTypeOfPerson', 'transactionType',\n",
       "       'debtorIdCode', 'creditorCreditCard', 'responseCode', 'creditorId',\n",
       "       'creditorIdCode', 'hourSin', 'hourCos', 'dayOfYearSin', 'dayOfYearCos',\n",
       "       'dayOfMonthSin', 'dayOfMonthCos', 'dayOfWeekSin', 'dayOfWeekCos',\n",
       "       'monthSin', 'monthCos'],\n",
       "      dtype='object')"
      ]
     },
     "execution_count": 49,
     "metadata": {},
     "output_type": "execute_result"
    }
   ],
   "source": [
    "AV_consolidado_3_stage.columns"
   ]
  },
  {
   "cell_type": "code",
   "execution_count": 50,
   "metadata": {
    "metadata": {}
   },
   "outputs": [
    {
     "name": "stderr",
     "output_type": "stream",
     "text": [
      "/home/cnvdba/miniconda3/envs/mvp1/lib/python3.11/site-packages/sklearn/preprocessing/_encoders.py:972: FutureWarning: `sparse` was renamed to `sparse_output` in version 1.2 and will be removed in 1.4. `sparse_output` is ignored unless you leave `sparse` to its default value.\n",
      "  warnings.warn(\n"
     ]
    },
    {
     "data": {
      "text/html": [
       "<style>#sk-container-id-2 {color: black;}#sk-container-id-2 pre{padding: 0;}#sk-container-id-2 div.sk-toggleable {background-color: white;}#sk-container-id-2 label.sk-toggleable__label {cursor: pointer;display: block;width: 100%;margin-bottom: 0;padding: 0.3em;box-sizing: border-box;text-align: center;}#sk-container-id-2 label.sk-toggleable__label-arrow:before {content: \"▸\";float: left;margin-right: 0.25em;color: #696969;}#sk-container-id-2 label.sk-toggleable__label-arrow:hover:before {color: black;}#sk-container-id-2 div.sk-estimator:hover label.sk-toggleable__label-arrow:before {color: black;}#sk-container-id-2 div.sk-toggleable__content {max-height: 0;max-width: 0;overflow: hidden;text-align: left;background-color: #f0f8ff;}#sk-container-id-2 div.sk-toggleable__content pre {margin: 0.2em;color: black;border-radius: 0.25em;background-color: #f0f8ff;}#sk-container-id-2 input.sk-toggleable__control:checked~div.sk-toggleable__content {max-height: 200px;max-width: 100%;overflow: auto;}#sk-container-id-2 input.sk-toggleable__control:checked~label.sk-toggleable__label-arrow:before {content: \"▾\";}#sk-container-id-2 div.sk-estimator input.sk-toggleable__control:checked~label.sk-toggleable__label {background-color: #d4ebff;}#sk-container-id-2 div.sk-label input.sk-toggleable__control:checked~label.sk-toggleable__label {background-color: #d4ebff;}#sk-container-id-2 input.sk-hidden--visually {border: 0;clip: rect(1px 1px 1px 1px);clip: rect(1px, 1px, 1px, 1px);height: 1px;margin: -1px;overflow: hidden;padding: 0;position: absolute;width: 1px;}#sk-container-id-2 div.sk-estimator {font-family: monospace;background-color: #f0f8ff;border: 1px dotted black;border-radius: 0.25em;box-sizing: border-box;margin-bottom: 0.5em;}#sk-container-id-2 div.sk-estimator:hover {background-color: #d4ebff;}#sk-container-id-2 div.sk-parallel-item::after {content: \"\";width: 100%;border-bottom: 1px solid gray;flex-grow: 1;}#sk-container-id-2 div.sk-label:hover label.sk-toggleable__label {background-color: #d4ebff;}#sk-container-id-2 div.sk-serial::before {content: \"\";position: absolute;border-left: 1px solid gray;box-sizing: border-box;top: 0;bottom: 0;left: 50%;z-index: 0;}#sk-container-id-2 div.sk-serial {display: flex;flex-direction: column;align-items: center;background-color: white;padding-right: 0.2em;padding-left: 0.2em;position: relative;}#sk-container-id-2 div.sk-item {position: relative;z-index: 1;}#sk-container-id-2 div.sk-parallel {display: flex;align-items: stretch;justify-content: center;background-color: white;position: relative;}#sk-container-id-2 div.sk-item::before, #sk-container-id-2 div.sk-parallel-item::before {content: \"\";position: absolute;border-left: 1px solid gray;box-sizing: border-box;top: 0;bottom: 0;left: 50%;z-index: -1;}#sk-container-id-2 div.sk-parallel-item {display: flex;flex-direction: column;z-index: 1;position: relative;background-color: white;}#sk-container-id-2 div.sk-parallel-item:first-child::after {align-self: flex-end;width: 50%;}#sk-container-id-2 div.sk-parallel-item:last-child::after {align-self: flex-start;width: 50%;}#sk-container-id-2 div.sk-parallel-item:only-child::after {width: 0;}#sk-container-id-2 div.sk-dashed-wrapped {border: 1px dashed gray;margin: 0 0.4em 0.5em 0.4em;box-sizing: border-box;padding-bottom: 0.4em;background-color: white;}#sk-container-id-2 div.sk-label label {font-family: monospace;font-weight: bold;display: inline-block;line-height: 1.2em;}#sk-container-id-2 div.sk-label-container {text-align: center;}#sk-container-id-2 div.sk-container {/* jupyter's `normalize.less` sets `[hidden] { display: none; }` but bootstrap.min.css set `[hidden] { display: none !important; }` so we also need the `!important` here to be able to override the default hidden behavior on the sphinx rendered scikit-learn.org. See: https://github.com/scikit-learn/scikit-learn/issues/21755 */display: inline-block !important;position: relative;}#sk-container-id-2 div.sk-text-repr-fallback {display: none;}</style><div id=\"sk-container-id-2\" class=\"sk-top-container\"><div class=\"sk-text-repr-fallback\"><pre>OneHotEncoder(handle_unknown=&#x27;ignore&#x27;, sparse=False, sparse_output=False)</pre><b>In a Jupyter environment, please rerun this cell to show the HTML representation or trust the notebook. <br />On GitHub, the HTML representation is unable to render, please try loading this page with nbviewer.org.</b></div><div class=\"sk-container\" hidden><div class=\"sk-item\"><div class=\"sk-estimator sk-toggleable\"><input class=\"sk-toggleable__control sk-hidden--visually\" id=\"sk-estimator-id-2\" type=\"checkbox\" checked><label for=\"sk-estimator-id-2\" class=\"sk-toggleable__label sk-toggleable__label-arrow\">OneHotEncoder</label><div class=\"sk-toggleable__content\"><pre>OneHotEncoder(handle_unknown=&#x27;ignore&#x27;, sparse=False, sparse_output=False)</pre></div></div></div></div></div>"
      ],
      "text/plain": [
       "OneHotEncoder(handle_unknown='ignore', sparse=False, sparse_output=False)"
      ]
     },
     "execution_count": 50,
     "metadata": {},
     "output_type": "execute_result"
    }
   ],
   "source": [
    "if PREDICTION_PIPELINE:\n",
    "    ohe = OneHotEncoder(sparse=False, handle_unknown=\"ignore\")\n",
    "else:\n",
    "    ohe = OneHotEncoder(sparse=False, handle_unknown=\"ignore\", drop=\"first\")\n",
    "ohe.fit(AV_consolidado_3_stage[vars_to_ohe])\n"
   ]
  },
  {
   "cell_type": "code",
   "execution_count": 51,
   "metadata": {
    "metadata": {}
   },
   "outputs": [],
   "source": [
    "AV_consolidado_3_ohe_stage = pd.DataFrame(\n",
    "    ohe.transform(AV_consolidado_3_stage[vars_to_ohe]),\n",
    "    columns=ohe.get_feature_names_out(vars_to_ohe),\n",
    ")"
   ]
  },
  {
   "cell_type": "code",
   "execution_count": 52,
   "metadata": {
    "metadata": {}
   },
   "outputs": [],
   "source": [
    "AV_consolidado = pd.concat(\n",
    "    [AV_consolidado_3_stage.drop(vars_to_ohe, axis=1), AV_consolidado_3_ohe_stage],\n",
    "    axis=1,\n",
    ")"
   ]
  },
  {
   "cell_type": "code",
   "execution_count": 53,
   "metadata": {
    "metadata": {}
   },
   "outputs": [
    {
     "data": {
      "text/html": [
       "<div>\n",
       "<style scoped>\n",
       "    .dataframe tbody tr th:only-of-type {\n",
       "        vertical-align: middle;\n",
       "    }\n",
       "\n",
       "    .dataframe tbody tr th {\n",
       "        vertical-align: top;\n",
       "    }\n",
       "\n",
       "    .dataframe thead th {\n",
       "        text-align: right;\n",
       "    }\n",
       "</style>\n",
       "<table border=\"1\" class=\"dataframe\">\n",
       "  <thead>\n",
       "    <tr style=\"text-align: right;\">\n",
       "      <th></th>\n",
       "      <th>debtorId</th>\n",
       "      <th>creditorCCI</th>\n",
       "      <th>channel</th>\n",
       "      <th>currency</th>\n",
       "      <th>creditorParticipant</th>\n",
       "      <th>debtorParticipant</th>\n",
       "      <th>debtorTypeOfPerson</th>\n",
       "      <th>transactionType</th>\n",
       "      <th>debtorIdCode</th>\n",
       "      <th>creditorCreditCard</th>\n",
       "      <th>...</th>\n",
       "      <th>hourSin</th>\n",
       "      <th>hourCos</th>\n",
       "      <th>dayOfYearSin</th>\n",
       "      <th>dayOfYearCos</th>\n",
       "      <th>dayOfMonthSin</th>\n",
       "      <th>dayOfMonthCos</th>\n",
       "      <th>dayOfWeekSin</th>\n",
       "      <th>dayOfWeekCos</th>\n",
       "      <th>monthSin</th>\n",
       "      <th>monthCos</th>\n",
       "    </tr>\n",
       "  </thead>\n",
       "  <tbody>\n",
       "    <tr>\n",
       "      <th>0</th>\n",
       "      <td>99999999</td>\n",
       "      <td>01126300020026193410</td>\n",
       "      <td>invalid</td>\n",
       "      <td>soles</td>\n",
       "      <td>bbva</td>\n",
       "      <td>bcp</td>\n",
       "      <td>none</td>\n",
       "      <td>ordinary_transfer</td>\n",
       "      <td>2</td>\n",
       "      <td>None</td>\n",
       "      <td>...</td>\n",
       "      <td>0.0</td>\n",
       "      <td>1.0</td>\n",
       "      <td>0.409356</td>\n",
       "      <td>-0.912375</td>\n",
       "      <td>0.937752</td>\n",
       "      <td>0.347305</td>\n",
       "      <td>0.433884</td>\n",
       "      <td>-0.900969</td>\n",
       "      <td>1.224647e-16</td>\n",
       "      <td>-1.0</td>\n",
       "    </tr>\n",
       "    <tr>\n",
       "      <th>1</th>\n",
       "      <td>99999999</td>\n",
       "      <td>01113200020046033080</td>\n",
       "      <td>web</td>\n",
       "      <td>soles</td>\n",
       "      <td>bbva</td>\n",
       "      <td>bcp</td>\n",
       "      <td>none</td>\n",
       "      <td>ordinary_transfer</td>\n",
       "      <td>2</td>\n",
       "      <td>None</td>\n",
       "      <td>...</td>\n",
       "      <td>0.0</td>\n",
       "      <td>1.0</td>\n",
       "      <td>0.409356</td>\n",
       "      <td>-0.912375</td>\n",
       "      <td>0.937752</td>\n",
       "      <td>0.347305</td>\n",
       "      <td>0.433884</td>\n",
       "      <td>-0.900969</td>\n",
       "      <td>1.224647e-16</td>\n",
       "      <td>-1.0</td>\n",
       "    </tr>\n",
       "    <tr>\n",
       "      <th>2</th>\n",
       "      <td>71992204</td>\n",
       "      <td>00389801334501522345</td>\n",
       "      <td>web</td>\n",
       "      <td>soles</td>\n",
       "      <td>interbank</td>\n",
       "      <td>bcp</td>\n",
       "      <td>none</td>\n",
       "      <td>ordinary_transfer</td>\n",
       "      <td>2</td>\n",
       "      <td>None</td>\n",
       "      <td>...</td>\n",
       "      <td>0.0</td>\n",
       "      <td>1.0</td>\n",
       "      <td>0.409356</td>\n",
       "      <td>-0.912375</td>\n",
       "      <td>0.937752</td>\n",
       "      <td>0.347305</td>\n",
       "      <td>0.433884</td>\n",
       "      <td>-0.900969</td>\n",
       "      <td>1.224647e-16</td>\n",
       "      <td>-1.0</td>\n",
       "    </tr>\n",
       "    <tr>\n",
       "      <th>3</th>\n",
       "      <td>99999999</td>\n",
       "      <td>01102300010000606096</td>\n",
       "      <td>web</td>\n",
       "      <td>soles</td>\n",
       "      <td>bbva</td>\n",
       "      <td>bcp</td>\n",
       "      <td>none</td>\n",
       "      <td>ordinary_transfer</td>\n",
       "      <td>2</td>\n",
       "      <td>None</td>\n",
       "      <td>...</td>\n",
       "      <td>0.0</td>\n",
       "      <td>1.0</td>\n",
       "      <td>0.409356</td>\n",
       "      <td>-0.912375</td>\n",
       "      <td>0.937752</td>\n",
       "      <td>0.347305</td>\n",
       "      <td>0.433884</td>\n",
       "      <td>-0.900969</td>\n",
       "      <td>1.224647e-16</td>\n",
       "      <td>-1.0</td>\n",
       "    </tr>\n",
       "    <tr>\n",
       "      <th>4</th>\n",
       "      <td>99999999</td>\n",
       "      <td>00302301309958069994</td>\n",
       "      <td>web</td>\n",
       "      <td>soles</td>\n",
       "      <td>interbank</td>\n",
       "      <td>bcp</td>\n",
       "      <td>none</td>\n",
       "      <td>ordinary_transfer</td>\n",
       "      <td>2</td>\n",
       "      <td>None</td>\n",
       "      <td>...</td>\n",
       "      <td>0.0</td>\n",
       "      <td>1.0</td>\n",
       "      <td>0.409356</td>\n",
       "      <td>-0.912375</td>\n",
       "      <td>0.937752</td>\n",
       "      <td>0.347305</td>\n",
       "      <td>0.433884</td>\n",
       "      <td>-0.900969</td>\n",
       "      <td>1.224647e-16</td>\n",
       "      <td>-1.0</td>\n",
       "    </tr>\n",
       "  </tbody>\n",
       "</table>\n",
       "<p>5 rows × 23 columns</p>\n",
       "</div>"
      ],
      "text/plain": [
       "   debtorId           creditorCCI  channel currency creditorParticipant  \\\n",
       "0  99999999  01126300020026193410  invalid    soles                bbva   \n",
       "1  99999999  01113200020046033080      web    soles                bbva   \n",
       "2  71992204  00389801334501522345      web    soles           interbank   \n",
       "3  99999999  01102300010000606096      web    soles                bbva   \n",
       "4  99999999  00302301309958069994      web    soles           interbank   \n",
       "\n",
       "  debtorParticipant debtorTypeOfPerson    transactionType debtorIdCode  \\\n",
       "0               bcp               none  ordinary_transfer            2   \n",
       "1               bcp               none  ordinary_transfer            2   \n",
       "2               bcp               none  ordinary_transfer            2   \n",
       "3               bcp               none  ordinary_transfer            2   \n",
       "4               bcp               none  ordinary_transfer            2   \n",
       "\n",
       "  creditorCreditCard  ... hourSin hourCos dayOfYearSin  dayOfYearCos  \\\n",
       "0               None  ...     0.0     1.0     0.409356     -0.912375   \n",
       "1               None  ...     0.0     1.0     0.409356     -0.912375   \n",
       "2               None  ...     0.0     1.0     0.409356     -0.912375   \n",
       "3               None  ...     0.0     1.0     0.409356     -0.912375   \n",
       "4               None  ...     0.0     1.0     0.409356     -0.912375   \n",
       "\n",
       "   dayOfMonthSin  dayOfMonthCos  dayOfWeekSin  dayOfWeekCos      monthSin  \\\n",
       "0       0.937752       0.347305      0.433884     -0.900969  1.224647e-16   \n",
       "1       0.937752       0.347305      0.433884     -0.900969  1.224647e-16   \n",
       "2       0.937752       0.347305      0.433884     -0.900969  1.224647e-16   \n",
       "3       0.937752       0.347305      0.433884     -0.900969  1.224647e-16   \n",
       "4       0.937752       0.347305      0.433884     -0.900969  1.224647e-16   \n",
       "\n",
       "   monthCos  \n",
       "0      -1.0  \n",
       "1      -1.0  \n",
       "2      -1.0  \n",
       "3      -1.0  \n",
       "4      -1.0  \n",
       "\n",
       "[5 rows x 23 columns]"
      ]
     },
     "execution_count": 53,
     "metadata": {},
     "output_type": "execute_result"
    }
   ],
   "source": [
    "AV_consolidado_3_stage.head()"
   ]
  },
  {
   "cell_type": "code",
   "execution_count": 54,
   "metadata": {
    "metadata": {}
   },
   "outputs": [],
   "source": [
    "AV_consolidado[AV_consolidado_3_ohe_stage.columns] = AV_consolidado[\n",
    "    AV_consolidado_3_ohe_stage.columns\n",
    "].astype(\"uint8\")\n",
    "AV_consolidado_completed = pd.DataFrame()\n",
    "AV_consolidado_completed = pd.concat(\n",
    "    [AV_consolidado_completed, AV_consolidado], axis=0, ignore_index=True\n",
    ")"
   ]
  },
  {
   "cell_type": "code",
   "execution_count": 55,
   "metadata": {
    "metadata": {}
   },
   "outputs": [],
   "source": [
    "AV_consolidado_original = pd.DataFrame()\n",
    "AV_consolidado_original_stage = AV_consolidado.copy()\n",
    "AV_consolidado_original = pd.concat(\n",
    "    [AV_consolidado_original, AV_consolidado_original_stage],\n",
    "    axis=0,\n",
    "    ignore_index=True,\n",
    ")\n",
    "AV_consolidado_original_values_set = pd.DataFrame()\n",
    "AV_consolidado_original_values_set = pd.concat(\n",
    "    [AV_consolidado_original_values_set, AV_consolidado_original_values_set_stage],\n",
    "    axis=0,\n",
    "    ignore_index=True,\n",
    ")\n"
   ]
  },
  {
   "cell_type": "code",
   "execution_count": 56,
   "metadata": {
    "metadata": {}
   },
   "outputs": [
    {
     "data": {
      "text/plain": [
       "0     2024-06-06\n",
       "1     2024-06-07\n",
       "2     2024-06-08\n",
       "3     2024-06-09\n",
       "4     2024-06-10\n",
       "         ...    \n",
       "86    2024-08-31\n",
       "87    2024-09-01\n",
       "88    2024-09-02\n",
       "89    2024-09-03\n",
       "90    2024-09-04\n",
       "Name: creationDate, Length: 91, dtype: object"
      ]
     },
     "execution_count": 56,
     "metadata": {},
     "output_type": "execute_result"
    }
   ],
   "source": [
    "AV_consolidado_original_values_set[\"creationDate\"].drop_duplicates().sort_values().reset_index(drop=True)"
   ]
  },
  {
   "cell_type": "code",
   "execution_count": 57,
   "metadata": {
    "metadata": {}
   },
   "outputs": [],
   "source": [
    "# Fill nulls\n",
    "AV_consolidado_completed.fillna(value=0, inplace=True)\n",
    "\n",
    "# Set all binary to uint8 (except the ones that are uint8 already)\n",
    "id_columns = [\n",
    "    \"debtorId\",\n",
    "    \"debtorIdCode\",\n",
    "    \"creditorCCI\",\n",
    "    \"creditorCreditCard\",\n",
    "    \"creditorId\",\n",
    "    \"creditorIdCode\",\n",
    "]\n",
    "\n",
    "excluded_columns = (\n",
    "    [\n",
    "        \"hourSin\",\n",
    "        \"hourCos\",\n",
    "        \"dayOfYearSin\",\n",
    "        \"dayOfYearCos\",\n",
    "        \"dayOfMonthSin\",\n",
    "        \"dayOfMonthCos\",\n",
    "        \"dayOfWeekSin\",\n",
    "        \"dayOfWeekCos\",\n",
    "        \"monthSin\",\n",
    "        \"monthCos\",\n",
    "    ]\n",
    "    + AV_consolidado_completed.select_dtypes(include=\"uint8\").columns.to_list()\n",
    "    + id_columns\n",
    ")\n",
    "\n"
   ]
  },
  {
   "cell_type": "code",
   "execution_count": 58,
   "metadata": {
    "metadata": {}
   },
   "outputs": [],
   "source": [
    "# Get a list of column names excluding 'excluded_columns' and id columns\n",
    "binary_columns = list(\n",
    "    set(AV_consolidado_completed.columns).difference(excluded_columns)\n",
    ")\n"
   ]
  },
  {
   "cell_type": "code",
   "execution_count": 59,
   "metadata": {
    "metadata": {}
   },
   "outputs": [
    {
     "data": {
      "text/plain": [
       "[]"
      ]
     },
     "execution_count": 59,
     "metadata": {},
     "output_type": "execute_result"
    }
   ],
   "source": [
    "binary_columns"
   ]
  },
  {
   "cell_type": "code",
   "execution_count": 60,
   "metadata": {
    "metadata": {}
   },
   "outputs": [],
   "source": [
    "\n",
    "# Convert the binary columns to uint8\n",
    "AV_consolidado_completed[binary_columns] = AV_consolidado_completed[\n",
    "    binary_columns\n",
    "].astype(\"uint8\")"
   ]
  },
  {
   "cell_type": "code",
   "execution_count": 27,
   "metadata": {
    "metadata": {}
   },
   "outputs": [],
   "source": [
    "# # Export AV_consolidado_completed\n",
    "# output_file_path = \"cce_ipf_message_feature_engineering.pickle\"\n",
    "# AV_consolidado_completed.to_pickle(output_file_path)\n",
    "\n",
    "# # Export AV_consolidado_original\n",
    "# output_file_path = \"cce_ipf_message_original.pickle\"\n",
    "# AV_consolidado_original.to_pickle(output_file_path)\n",
    "\n",
    "# # Export AV_consolidado_original_values_set\n",
    "# output_file_path = \"cce_ipf_message_original_values_set.pickle\"\n",
    "# AV_consolidado_original_values_set.to_pickle(output_file_path)\n",
    "# print(\"end of execution\")\n"
   ]
  },
  {
   "cell_type": "code",
   "execution_count": 26,
   "metadata": {
    "metadata": {}
   },
   "outputs": [
    {
     "data": {
      "text/plain": [
       "['debtorId',\n",
       " 'creditorCCI',\n",
       " 'debtorIdCode',\n",
       " 'creditorCreditCard',\n",
       " 'creditorId',\n",
       " 'creditorIdCode',\n",
       " 'hourSin',\n",
       " 'hourCos',\n",
       " 'dayOfYearSin',\n",
       " 'dayOfYearCos',\n",
       " 'dayOfMonthSin',\n",
       " 'dayOfMonthCos',\n",
       " 'dayOfWeekSin',\n",
       " 'dayOfWeekCos',\n",
       " 'monthSin',\n",
       " 'monthCos',\n",
       " 'debtorTypeOfPerson_none',\n",
       " 'debtorParticipant_alfin_banco_s.a.',\n",
       " 'debtorParticipant_banbif',\n",
       " 'debtorParticipant_banco_de_la_nacion',\n",
       " 'debtorParticipant_banco_falabella',\n",
       " 'debtorParticipant_banco_pichincha',\n",
       " 'debtorParticipant_banco_ripley',\n",
       " 'debtorParticipant_bbva',\n",
       " 'debtorParticipant_bcp',\n",
       " 'debtorParticipant_caja_arequipa',\n",
       " 'debtorParticipant_caja_cusco',\n",
       " 'debtorParticipant_caja_ica',\n",
       " 'debtorParticipant_caja_piura',\n",
       " 'debtorParticipant_caja_trujillo',\n",
       " 'debtorParticipant_crediscotia_financiera',\n",
       " 'debtorParticipant_financiera_oh',\n",
       " 'debtorParticipant_gnb',\n",
       " 'debtorParticipant_interbank',\n",
       " 'debtorParticipant_mi_banco',\n",
       " 'debtorParticipant_scotiabank',\n",
       " 'creditorParticipant_alfin_banco_s.a.',\n",
       " 'creditorParticipant_banbif',\n",
       " 'creditorParticipant_banco_de_la_nacion',\n",
       " 'creditorParticipant_banco_falabella',\n",
       " 'creditorParticipant_banco_pichincha',\n",
       " 'creditorParticipant_banco_ripley',\n",
       " 'creditorParticipant_bbva',\n",
       " 'creditorParticipant_bcp',\n",
       " 'creditorParticipant_caja_arequipa',\n",
       " 'creditorParticipant_caja_cusco',\n",
       " 'creditorParticipant_caja_huancayo',\n",
       " 'creditorParticipant_caja_ica',\n",
       " 'creditorParticipant_caja_piura',\n",
       " 'creditorParticipant_caja_sullana',\n",
       " 'creditorParticipant_caja_trujillo',\n",
       " 'creditorParticipant_citibank',\n",
       " 'creditorParticipant_comercio',\n",
       " 'creditorParticipant_crediscotia_financiera',\n",
       " 'creditorParticipant_financiera_efectiva',\n",
       " 'creditorParticipant_financiera_oh',\n",
       " 'creditorParticipant_gnb',\n",
       " 'creditorParticipant_interbank',\n",
       " 'creditorParticipant_invalid',\n",
       " 'creditorParticipant_mi_banco',\n",
       " 'creditorParticipant_scotiabank',\n",
       " 'transactionType_ordinary_transfer',\n",
       " 'transactionType_payments_to_account_card',\n",
       " 'currency_dollars',\n",
       " 'currency_soles',\n",
       " 'channel_atm',\n",
       " 'channel_banca_movil',\n",
       " 'channel_invalid',\n",
       " 'channel_web',\n",
       " 'responseCode_accepted',\n",
       " 'responseCode_rejected']"
      ]
     },
     "execution_count": 26,
     "metadata": {},
     "output_type": "execute_result"
    }
   ],
   "source": [
    "AV_consolidado_completed.columns.tolist()"
   ]
  },
  {
   "cell_type": "markdown",
   "metadata": {},
   "source": [
    "## FEATURE ENGINEERING RATIOS"
   ]
  },
  {
   "cell_type": "code",
   "execution_count": 27,
   "metadata": {
    "metadata": {}
   },
   "outputs": [],
   "source": [
    "def generate_combinations(input_list):\n",
    "    \"\"\"\n",
    "    Generate all possible combinations of elements from the given input list.\n",
    "\n",
    "    The function generates combinations by first including each element in a separate list,\n",
    "    and then combining two elements at a time to form new combinations.\n",
    "\n",
    "    Args:\n",
    "        input_list (list): The list of elements from which to generate combinations.\n",
    "\n",
    "    Returns:\n",
    "        list: A list containing all possible combinations of elements.\n",
    "    \"\"\"\n",
    "    \n",
    "    output_list = []\n",
    "\n",
    "    for i in range(len(input_list)):\n",
    "        # Add each element in a list of 1 item\n",
    "        output_list.append([input_list[i]])\n",
    "\n",
    "        for j in range(i + 1, len(input_list)):\n",
    "            # Add combinations of two elements\n",
    "            output_list.append([input_list[i], input_list[j]])\n",
    "\n",
    "    return output_list\n",
    "\n",
    "def categorize_hour(hour):\n",
    "    \"\"\"\n",
    "    Categorize the given hour into specific time intervals.\n",
    "\n",
    "    Args:\n",
    "        hour (int or str): The hour to be categorized. It can be an integer or a string representation of an integer.\n",
    "\n",
    "    Returns:\n",
    "        str: The category corresponding to the input hour.\n",
    "\n",
    "    \"\"\"\n",
    "    # Zero-padding if needed\n",
    "    hour = str(hour).zfill(6)  \n",
    "    # Extract the hour part\n",
    "    hour = int(hour[:2])  \n",
    "    # Define time interval categories\n",
    "    if hour >= 0 and hour < 3:\n",
    "        return '00 to 03'\n",
    "    elif hour >= 3 and hour < 6:\n",
    "        return '03 to 06'\n",
    "    elif hour >= 6 and hour < 9:\n",
    "        return '06 to 09'\n",
    "    elif hour >= 9 and hour < 12:\n",
    "        return '09 to 12'\n",
    "    elif hour >= 12 and hour < 15:\n",
    "        return '12 to 15'\n",
    "    elif hour >= 15 and hour < 18:\n",
    "        return '15 to 18'\n",
    "    elif hour >= 18 and hour < 21:\n",
    "        return '18 to 21'\n",
    "    else:  # hour >= 21 or hour < 24\n",
    "        return '21 to 00'"
   ]
  },
  {
   "cell_type": "code",
   "execution_count": 28,
   "metadata": {
    "metadata": {}
   },
   "outputs": [],
   "source": [
    "# Define a list of columns to keep in the resulting DataFrame\n",
    "lista = [\n",
    "    \"debtorId\",\n",
    "    \"creditorCCI\",\n",
    "    \"run_id\",\n",
    "    \"creditorParticipant\",\n",
    "    \"currency\",\n",
    "    \"channel\",\n",
    "    \"responseCode\",\n",
    "    \"debtorParticipant\",\n",
    "    \"creationDate\",\n",
    "    \"creationTime\",\n",
    "    \"time_interval\",\n",
    "    \"Weekday\",\n",
    "]\n",
    "\n",
    "# Generate all possible combinations of columns to be used for ratio calculations\n",
    "output_list = generate_combinations(\n",
    "    [\n",
    "        \"creditorParticipant\",\n",
    "        \"currency\",\n",
    "        \"channel\",\n",
    "        \"responseCode\",\n",
    "        \"debtorParticipant\",\n",
    "        \"Weekday\",\n",
    "        \"time_interval\",\n",
    "        \"creditorCCI\",\n",
    "    ]\n",
    ")"
   ]
  },
  {
   "cell_type": "code",
   "execution_count": 57,
   "metadata": {
    "metadata": {}
   },
   "outputs": [],
   "source": [
    "directory_path = \"\"\n",
    "# Define the filenames for feature engineering and original values set DataFrames\n",
    "file_name_feature_engineering = \"cce_ipf_message_feature_engineering.pickle\"\n",
    "file_name_original_values_set = \"cce_ipf_message_original_values_set.pickle\"\n",
    "\n",
    "# Build the file paths for the feature engineering and original values set DataFrames\n",
    "file_path_fe = os.path.join(directory_path, file_name_feature_engineering)\n",
    "file_path_o_vs = os.path.join(directory_path, file_name_original_values_set)"
   ]
  },
  {
   "cell_type": "code",
   "execution_count": 29,
   "metadata": {
    "metadata": {}
   },
   "outputs": [
    {
     "name": "stderr",
     "output_type": "stream",
     "text": [
      "/tmp/ipykernel_2403339/1182050474.py:7: SettingWithCopyWarning: \n",
      "A value is trying to be set on a copy of a slice from a DataFrame.\n",
      "Try using .loc[row_indexer,col_indexer] = value instead\n",
      "\n",
      "See the caveats in the documentation: https://pandas.pydata.org/pandas-docs/stable/user_guide/indexing.html#returning-a-view-versus-a-copy\n",
      "  AV_o_vs[\"creationDate\"] = pd.to_datetime(AV_o_vs[\"creationDate\"])\n"
     ]
    }
   ],
   "source": [
    "# Read the original values set DataFrame\n",
    "# AV_o_vs = pd.read_pickle(file_path_o_vs)\n",
    "AV_o_vs = AV_consolidado_original_values_set\n",
    "# Filter and preprocess the original values set DataFrame\n",
    "AV_o_vs = AV_o_vs[AV_o_vs[\"transactionType\"] == \"Ordinary Transfer\"]\n",
    "# AV_o_vs = AV_o_vs[AV_o_vs['debtorParticipant'].isin(code) | AV_o_vs['creditorParticipant'].isin(code)]\n",
    "AV_o_vs[\"creationDate\"] = pd.to_datetime(AV_o_vs[\"creationDate\"])\n",
    "df = AV_o_vs.copy()\n",
    "df[\"Weekday\"] = df[\"creationDate\"].apply(lambda x: x.weekday()).astype(object)\n",
    "df[\"time_interval\"] = df[\"creationTime\"].apply(categorize_hour)\n",
    "\n"
   ]
  },
  {
   "cell_type": "code",
   "execution_count": 30,
   "metadata": {
    "metadata": {}
   },
   "outputs": [
    {
     "data": {
      "text/plain": [
       "417526"
      ]
     },
     "execution_count": 30,
     "metadata": {},
     "output_type": "execute_result"
    }
   ],
   "source": [
    "len(AV_consolidado_original_values_set)"
   ]
  },
  {
   "cell_type": "code",
   "execution_count": 31,
   "metadata": {
    "metadata": {}
   },
   "outputs": [
    {
     "data": {
      "text/plain": [
       "19201"
      ]
     },
     "execution_count": 31,
     "metadata": {},
     "output_type": "execute_result"
    }
   ],
   "source": [
    "len(AV_consolidado_original_values_set[AV_consolidado_original_values_set[\"transactionType\"] != \"Ordinary Transfer\"])"
   ]
  },
  {
   "cell_type": "code",
   "execution_count": 32,
   "metadata": {
    "metadata": {}
   },
   "outputs": [
    {
     "data": {
      "text/plain": [
       "398325"
      ]
     },
     "execution_count": 32,
     "metadata": {},
     "output_type": "execute_result"
    }
   ],
   "source": [
    "len(AV_o_vs)"
   ]
  },
  {
   "cell_type": "code",
   "execution_count": 33,
   "metadata": {
    "metadata": {}
   },
   "outputs": [],
   "source": [
    "def Ratio(dd1,output_list,lista, days_back, max_run_id): #revisar la fecha\n",
    "    \"\"\"\n",
    "    Calculate ratios based on cumulative counts for specified columns in the input DataFrame.\n",
    "\n",
    "    The function takes a DataFrame `dd1` and calculates ratios for combinations of columns specified in `output_list`.\n",
    "    The calculation is performed based on cumulative counts of each combination relative to a total count.\n",
    "\n",
    "    Args:\n",
    "        dd1 (pandas.DataFrame): The input DataFrame containing the data.\n",
    "        output_list (list): A list of lists, where each inner list represents a combination of columns for which ratios\n",
    "                            are to be calculated based on cumulative counts. The columns in each combination should be\n",
    "                            present in the DataFrame `dd1`.\n",
    "        lista (list): A list of column names from the DataFrame `dd1` that will be used to extract data.\n",
    "\n",
    "    Returns:\n",
    "        pandas.DataFrame: A DataFrame containing the calculated ratios for each combination specified in `output_list`.\n",
    "    \"\"\"\n",
    "    \n",
    "    creditor =[\"debtorId\"]\n",
    "    dd2_completed = pd.DataFrame()\n",
    "\n",
    "    total_days = dd1.creationDate.drop_duplicates().sort_values().reset_index(drop=True)\n",
    "    if PREDICTION_PIPELINE:\n",
    "        training_days = [total_days.max()]\n",
    "    else:\n",
    "        training_days = total_days[total_days>= '2023-04-06'].reset_index(drop=True)\n",
    "\n",
    "    print(training_days)\n",
    "    for i, _day in enumerate(training_days):\n",
    "        print(f\"processing day {i+1} of {len(training_days)}: {_day}\")\n",
    "        dd2=dd1[(dd1.creationDate <= _day) & (dd1.creationDate >= _day - pd.Timedelta(days=days_back))][lista]\\\n",
    "            .sort_values(by=[\"debtorId\",\"creationDate\",\"creationTime\"]).dropna().copy()\n",
    "        dd2[\"count_cci\"]=dd2.groupby([\"debtorId\"]).cumcount() + 1\n",
    "        for i in output_list:\n",
    "            dd2['_'.join(map(str, i))+\"_cumcount\"]=dd2.groupby(creditor+i).cumcount()\n",
    "            dd2['_'.join(map(str, i))+\"_ratio\"]=dd2['_'.join(map(str, i))+\"_cumcount\"]/dd2[\"count_cci\"]\n",
    "        print(\"SIZE DD2 (before)\", days_back, dd2.shape)\n",
    "        if PREDICTION_PIPELINE:\n",
    "            # dd2 = dd2[dd2.run_id == max(dd2.run_id)]\n",
    "            dd2 = dd2[dd2.run_id == max_run_id]\n",
    "        else:\n",
    "            dd2 = dd2[dd2.creationDate == _day]\n",
    "        print(\"SIZE DD2 (after)\", days_back, dd2.shape)\n",
    "        dd2_completed = pd.concat([dd2_completed, dd2], axis=0, ignore_index=False)\n",
    "        \n",
    "    return(dd2_completed.filter(like=\"ratio\"))"
   ]
  },
  {
   "cell_type": "code",
   "execution_count": 34,
   "metadata": {
    "metadata": {}
   },
   "outputs": [
    {
     "data": {
      "text/plain": [
       "0    2024-05-30\n",
       "1    2024-05-31\n",
       "2    2024-06-01\n",
       "3    2024-06-02\n",
       "4    2024-06-03\n",
       "        ...    \n",
       "86   2024-08-24\n",
       "87   2024-08-25\n",
       "88   2024-08-26\n",
       "89   2024-08-27\n",
       "90   2024-08-28\n",
       "Name: creationDate, Length: 91, dtype: datetime64[ns]"
      ]
     },
     "execution_count": 34,
     "metadata": {},
     "output_type": "execute_result"
    }
   ],
   "source": [
    "df.creationDate.drop_duplicates().sort_values().reset_index(drop=True)"
   ]
  },
  {
   "cell_type": "code",
   "execution_count": 35,
   "metadata": {
    "metadata": {}
   },
   "outputs": [
    {
     "data": {
      "text/plain": [
       "'20240828_0057'"
      ]
     },
     "execution_count": 35,
     "metadata": {},
     "output_type": "execute_result"
    }
   ],
   "source": [
    "max_run_id"
   ]
  },
  {
   "cell_type": "code",
   "execution_count": 36,
   "metadata": {
    "metadata": {}
   },
   "outputs": [
    {
     "name": "stdout",
     "output_type": "stream",
     "text": [
      "[Timestamp('2024-08-28 00:00:00')]\n",
      "processing day 1 of 1: 2024-08-28 00:00:00\n",
      "SIZE DD2 (before) 7 (28675, 85)\n",
      "SIZE DD2 (after) 7 (194, 85)\n",
      "[Timestamp('2024-08-28 00:00:00')]\n",
      "processing day 1 of 1: 2024-08-28 00:00:00\n",
      "SIZE DD2 (before) 90 (398325, 85)\n",
      "SIZE DD2 (after) 90 (194, 85)\n"
     ]
    }
   ],
   "source": [
    "# Calculate ratios based on cumulative counts for specified columns\n",
    "ratios_df_7 = Ratio(df, output_list, lista, 7, max_run_id)\n",
    "ratios_df_7.dropna(inplace=True)\n",
    "\n",
    "ratios_df_90 = Ratio(df, output_list, lista, 90, max_run_id)\n",
    "ratios_df_90.dropna(inplace=True)\n"
   ]
  },
  {
   "cell_type": "markdown",
   "metadata": {},
   "source": []
  },
  {
   "cell_type": "code",
   "execution_count": 37,
   "metadata": {
    "metadata": {}
   },
   "outputs": [
    {
     "name": "stdout",
     "output_type": "stream",
     "text": [
      "SHAPE 7 days (194, 103)\n",
      "SHAPE 90 days (194, 103)\n"
     ]
    }
   ],
   "source": [
    "# Read the feature engineering DataFrame\n",
    "# AV_fe = pd.read_pickle(file_path_fe)\n",
    "AV_fe = AV_consolidado_completed\n",
    "AV_fe = AV_fe.drop(\n",
    "    [\"debtorIdCode\", \"creditorCreditCard\", \"creditorId\", \"creditorIdCode\"], axis=1\n",
    ")\n",
    "\n",
    "# Merge the calculated ratios DataFrame and the feature engineering DataFrame\n",
    "final_7 = pd.merge(ratios_df_7, AV_fe, left_index=True, right_index=True)\n",
    "final_90 = pd.merge(ratios_df_90, AV_fe, left_index=True, right_index=True)\n",
    "\n",
    "print(\"SHAPE 7 days\", final_7.shape)\n",
    "print(\"SHAPE 90 days\", final_90.shape)\n",
    "\n",
    "# Save the final DataFrame to a pickle file\n",
    "# final_7.to_pickle(os.path.join(directory_path, \"df_output_7.pickle\"))\n",
    "# final_90.to_pickle(os.path.join(directory_path, \"df_output_90.pickle\"))"
   ]
  },
  {
   "cell_type": "markdown",
   "metadata": {},
   "source": [
    "## TRAIN MODEL"
   ]
  },
  {
   "cell_type": "code",
   "execution_count": null,
   "metadata": {
    "metadata": {}
   },
   "outputs": [],
   "source": [
    "RS = 12494328\n",
    "train_data_file_name = \"df_output.pickle\"\n",
    "AV_train = pd.read_pickle(train_data_file_name)\n",
    "print(\"nasss\", AV_train.isna().sum() / AV_train.shape[0])\n",
    "print(AV_train)\n",
    "# Explore train data\n",
    "print(f\"AV_train shape: {AV_train.shape}\")\n",
    "print(f\"AV_train columns: {AV_train.columns}\")\n",
    "print(f\"creditorCCI únicos: {AV_train.creditorCCI.nunique()}\")\n",
    "print(\"Top 10 creditor CCI con más operaciones AV:\")\n",
    "print(AV_train.creditorCCI.value_counts().sort_values(ascending=False).head(10))\n",
    "AV_train_nunique = AV_train.nunique()\n",
    "cols_to_drop_unique_value = AV_train_nunique[AV_train_nunique == 1].index.to_list()\n",
    "# drop columns with unique value\n",
    "if len(cols_to_drop_unique_value) > 0:\n",
    "    AV_train.drop(cols_to_drop_unique_value, axis=1, inplace=True)\n",
    "print(AV_train.shape)\n",
    "AV_train.dropna(inplace=True)\n",
    "print(AV_train.shape)\n",
    "\n",
    "args_5 = {\"random_state\": RS, \"contamination\": 0.0196}\n",
    "id_cols = [\"debtorId\", \"creditorCCI\"]\n",
    "\n"
   ]
  },
  {
   "cell_type": "code",
   "execution_count": 40,
   "metadata": {
    "metadata": {}
   },
   "outputs": [
    {
     "ename": "NameError",
     "evalue": "name 'AV_train' is not defined",
     "output_type": "error",
     "traceback": [
      "\u001b[0;31m---------------------------------------------------------------------------\u001b[0m",
      "\u001b[0;31mNameError\u001b[0m                                 Traceback (most recent call last)",
      "Cell \u001b[0;32mIn[40], line 106\u001b[0m\n\u001b[1;32m      1\u001b[0m variables \u001b[38;5;241m=\u001b[39m [\n\u001b[1;32m      2\u001b[0m     \u001b[38;5;124m\"\u001b[39m\u001b[38;5;124mcreditorParticipant_ratio\u001b[39m\u001b[38;5;124m\"\u001b[39m,\n\u001b[1;32m      3\u001b[0m     \u001b[38;5;124m\"\u001b[39m\u001b[38;5;124mcreditorParticipant_currency_ratio\u001b[39m\u001b[38;5;124m\"\u001b[39m,\n\u001b[0;32m   (...)\u001b[0m\n\u001b[1;32m    102\u001b[0m     \u001b[38;5;124m\"\u001b[39m\u001b[38;5;124mresponseCode_rejected\u001b[39m\u001b[38;5;124m\"\u001b[39m,\n\u001b[1;32m    103\u001b[0m ]\n\u001b[1;32m    105\u001b[0m \u001b[38;5;28;01mfor\u001b[39;00m col \u001b[38;5;129;01min\u001b[39;00m variables:\n\u001b[0;32m--> 106\u001b[0m     \u001b[38;5;28;01mif\u001b[39;00m col \u001b[38;5;129;01mnot\u001b[39;00m \u001b[38;5;129;01min\u001b[39;00m \u001b[43mAV_train\u001b[49m\u001b[38;5;241m.\u001b[39mcolumns:\n\u001b[1;32m    107\u001b[0m         AV_train[col] \u001b[38;5;241m=\u001b[39m \u001b[38;5;241m0\u001b[39m\n\u001b[1;32m    109\u001b[0m AV_train \u001b[38;5;241m=\u001b[39m AV_train[variables]\n",
      "\u001b[0;31mNameError\u001b[0m: name 'AV_train' is not defined"
     ]
    }
   ],
   "source": [
    "variables = [\n",
    "    \"creditorParticipant_ratio\",\n",
    "    \"creditorParticipant_currency_ratio\",\n",
    "    \"creditorParticipant_channel_ratio\",\n",
    "    \"creditorParticipant_responseCode_ratio\",\n",
    "    \"creditorParticipant_debtorParticipant_ratio\",\n",
    "    \"creditorParticipant_Weekday_ratio\",\n",
    "    \"creditorParticipant_time_interval_ratio\",\n",
    "    \"creditorParticipant_creditorCCI_ratio\",\n",
    "    \"currency_ratio\",\n",
    "    \"currency_channel_ratio\",\n",
    "    \"currency_responseCode_ratio\",\n",
    "    \"currency_debtorParticipant_ratio\",\n",
    "    \"currency_Weekday_ratio\",\n",
    "    \"currency_time_interval_ratio\",\n",
    "    \"currency_creditorCCI_ratio\",\n",
    "    \"channel_ratio\",\n",
    "    \"channel_responseCode_ratio\",\n",
    "    \"channel_debtorParticipant_ratio\",\n",
    "    \"channel_Weekday_ratio\",\n",
    "    \"channel_time_interval_ratio\",\n",
    "    \"channel_creditorCCI_ratio\",\n",
    "    \"responseCode_ratio\",\n",
    "    \"responseCode_debtorParticipant_ratio\",\n",
    "    \"responseCode_Weekday_ratio\",\n",
    "    \"responseCode_time_interval_ratio\",\n",
    "    \"responseCode_creditorCCI_ratio\",\n",
    "    \"debtorParticipant_ratio\",\n",
    "    \"debtorParticipant_Weekday_ratio\",\n",
    "    \"debtorParticipant_time_interval_ratio\",\n",
    "    \"debtorParticipant_creditorCCI_ratio\",\n",
    "    \"Weekday_ratio\",\n",
    "    \"Weekday_time_interval_ratio\",\n",
    "    \"Weekday_creditorCCI_ratio\",\n",
    "    \"time_interval_ratio\",\n",
    "    \"time_interval_creditorCCI_ratio\",\n",
    "    \"creditorCCI_ratio\",\n",
    "    \"debtorId\",\n",
    "    \"creditorCCI\",\n",
    "    \"hourSin\",\n",
    "    \"hourCos\",\n",
    "    \"dayOfYearSin\",\n",
    "    \"dayOfYearCos\",\n",
    "    \"dayOfMonthSin\",\n",
    "    \"dayOfMonthCos\",\n",
    "    \"dayOfWeekSin\",\n",
    "    \"dayOfWeekCos\",\n",
    "    \"debtorParticipant_bcp\",\n",
    "    \"debtorParticipant_interbank\",\n",
    "    \"debtorParticipant_citibank\",\n",
    "    \"debtorParticipant_scotiabank\",\n",
    "    \"debtorParticipant_bbva\",\n",
    "    \"debtorParticipant_banco_de_la_nacion\",\n",
    "    \"debtorParticipant_comercio\",\n",
    "    \"debtorParticipant_banco_pichincha\",\n",
    "    \"debtorParticipant_banbif\",\n",
    "    \"debtorParticipant_crediscotia_financiera\",\n",
    "    \"debtorParticipant_mi_banco\",\n",
    "    \"debtorParticipant_gnb\",\n",
    "    \"debtorParticipant_banco_falabella\",\n",
    "    \"debtorParticipant_banco_ripley\",\n",
    "    \"debtorParticipant_alfin_banco_s.a.\",\n",
    "    \"debtorParticipant_financiera_oh\",\n",
    "    \"debtorParticipant_financiera_efectiva\",\n",
    "    \"debtorParticipant_caja_piura\",\n",
    "    \"debtorParticipant_caja_trujillo\",\n",
    "    \"debtorParticipant_caja_arequipa\",\n",
    "    \"debtorParticipant_caja_sullana\",\n",
    "    \"debtorParticipant_caja_cusco\",\n",
    "    \"debtorParticipant_caja_huancayo\",\n",
    "    \"debtorParticipant_caja_ica\",\n",
    "    \"debtorParticipant_invalid\",\n",
    "    \"creditorParticipant_bcp\",\n",
    "    \"creditorParticipant_interbank\",\n",
    "    \"creditorParticipant_citibank\",\n",
    "    \"creditorParticipant_scotiabank\",\n",
    "    \"creditorParticipant_bbva\",\n",
    "    \"creditorParticipant_banco_de_la_nacion\",\n",
    "    \"creditorParticipant_comercio\",\n",
    "    \"creditorParticipant_banco_pichincha\",\n",
    "    \"creditorParticipant_banbif\",\n",
    "    \"creditorParticipant_crediscotia_financiera\",\n",
    "    \"creditorParticipant_mi_banco\",\n",
    "    \"creditorParticipant_gnb\",\n",
    "    \"creditorParticipant_banco_falabella\",\n",
    "    \"creditorParticipant_banco_ripley\",\n",
    "    \"creditorParticipant_alfin_banco_s.a.\",\n",
    "    \"creditorParticipant_financiera_oh\",\n",
    "    \"creditorParticipant_financiera_efectiva\",\n",
    "    \"creditorParticipant_caja_piura\",\n",
    "    \"creditorParticipant_caja_trujillo\",\n",
    "    \"creditorParticipant_caja_arequipa\",\n",
    "    \"creditorParticipant_caja_sullana\",\n",
    "    \"creditorParticipant_caja_cusco\",\n",
    "    \"creditorParticipant_caja_huancayo\",\n",
    "    \"creditorParticipant_caja_ica\",\n",
    "    \"creditorParticipant_invalid\",\n",
    "    \"currency_soles\",\n",
    "    \"channel_banca_movil\",\n",
    "    \"channel_invalid\",\n",
    "    \"channel_web\",\n",
    "    \"responseCode_rejected\",\n",
    "]\n",
    "\n",
    "for col in variables:\n",
    "    if col not in AV_train.columns:\n",
    "        AV_train[col] = 0\n",
    "\n",
    "AV_train = AV_train[variables]\n",
    "print(\"variables train\", AV_train.columns.tolist())"
   ]
  },
  {
   "cell_type": "code",
   "execution_count": null,
   "metadata": {
    "metadata": {}
   },
   "outputs": [],
   "source": [
    "# model function\n",
    "def fit_isolation_forest(input_data, args=None):\n",
    "    rs = args[\"random_state\"]\n",
    "    c = args[\"contamination\"]\n",
    "   \n",
    "    model = IsolationForest(random_state=rs, contamination=c, n_jobs=-1)\n",
    "    model.fit(input_data)\n",
    "\n",
    "    return model\n"
   ]
  },
  {
   "cell_type": "code",
   "execution_count": null,
   "metadata": {
    "metadata": {}
   },
   "outputs": [],
   "source": [
    "if_model_5 = fit_isolation_forest(AV_train.drop(id_cols, axis=1), args_5)\n",
    "output_directory_path = \"\"\n",
    "file_path = os.path.join(output_directory_path, \"mvp_1_model_90_days.pickle\")\n",
    "with open(file_path, \"wb\") as handle:\n",
    "    pickle.dump(if_model_5, handle, protocol=pickle.HIGHEST_PROTOCOL)"
   ]
  },
  {
   "cell_type": "markdown",
   "metadata": {},
   "source": [
    "## PREDICT MODEL"
   ]
  },
  {
   "cell_type": "code",
   "execution_count": 38,
   "metadata": {
    "metadata": {}
   },
   "outputs": [],
   "source": [
    "def load_model(file_path, file_name):\n",
    "    full_file_path = os.path.join(file_path, file_name)\n",
    "    with open(full_file_path, 'rb') as handle:\n",
    "        loaded_model = pickle.load(handle)\n",
    "    return loaded_model"
   ]
  },
  {
   "cell_type": "code",
   "execution_count": 40,
   "metadata": {
    "metadata": {}
   },
   "outputs": [],
   "source": [
    "# Path and file inputs\n",
    "# trained_models_path = '/home/cnvdba/cce/src/Models/Train'\n",
    "trained_models_path = ''\n",
    "trained_model_7_file_name = 'mvp_1_model_7_opt_200K.pickle' # 'mvp_1_model.pickle' \n",
    "trained_model_90_file_name = 'mvp_1_model_90_opt_200K.pickle'\n",
    "\n",
    "transformed_data_path = ''\n",
    "transformed_data_file_path_7 = os.path.join(transformed_data_path, 'df_output_7.pickle')\n",
    "transformed_data_file_path_90 = os.path.join(transformed_data_path, 'df_output_90.pickle')\n",
    "original_values_set_data_file_path = os.path.join(transformed_data_path, 'cce_ipf_message_original_values_set.pickle')\n",
    "\n",
    "# Load data\n",
    "model_7 = load_model(trained_models_path, trained_model_7_file_name)\n",
    "model_90 = load_model(trained_models_path, trained_model_90_file_name)\n",
    "original_values_set = AV_consolidado_original_values_set #pd.read_pickle(original_values_set_data_file_path)\n",
    "\n",
    "# transformed data\n",
    "AV_7 = final_7 #pd.read_pickle(transformed_data_file_path_7)\n",
    "AV_90 = final_90 #pd.read_pickle(transformed_data_file_path_90)"
   ]
  },
  {
   "cell_type": "code",
   "execution_count": 43,
   "metadata": {
    "metadata": {}
   },
   "outputs": [],
   "source": [
    "# variables=['creditorParticipant_ratio', 'creditorParticipant_currency_ratio',\n",
    "#    'creditorParticipant_channel_ratio',\n",
    "#    'creditorParticipant_responseCode_ratio',\n",
    "#    'creditorParticipant_debtorParticipant_ratio',\n",
    "#    'creditorParticipant_Weekday_ratio',\n",
    "#    'creditorParticipant_time_interval_ratio',\n",
    "#    'creditorParticipant_creditorCCI_ratio', 'currency_ratio',\n",
    "#    'currency_channel_ratio', 'currency_responseCode_ratio',\n",
    "#    'currency_debtorParticipant_ratio', 'currency_Weekday_ratio',\n",
    "#    'currency_time_interval_ratio', 'currency_creditorCCI_ratio',\n",
    "#    'channel_ratio', 'channel_responseCode_ratio',\n",
    "#    'channel_debtorParticipant_ratio', 'channel_Weekday_ratio',\n",
    "#    'channel_time_interval_ratio', 'channel_creditorCCI_ratio',\n",
    "#    'responseCode_ratio', 'responseCode_debtorParticipant_ratio',\n",
    "#    'responseCode_Weekday_ratio', 'responseCode_time_interval_ratio',\n",
    "#    'responseCode_creditorCCI_ratio', 'debtorParticipant_ratio',\n",
    "#    'debtorParticipant_Weekday_ratio',\n",
    "#    'debtorParticipant_time_interval_ratio',\n",
    "#    'debtorParticipant_creditorCCI_ratio', 'Weekday_ratio',\n",
    "#    'Weekday_time_interval_ratio', 'Weekday_creditorCCI_ratio',\n",
    "#    'time_interval_ratio', 'time_interval_creditorCCI_ratio',\n",
    "#    'creditorCCI_ratio', 'hourSin', 'hourCos', 'dayOfYearSin',\n",
    "#    'dayOfYearCos', 'dayOfMonthSin', 'dayOfMonthCos', 'dayOfWeekSin',\n",
    "#    'dayOfWeekCos', 'monthSin', 'monthCos', 'debtorTypeOfPerson_n',\n",
    "#    'debtorParticipant_banco_falabella',\n",
    "#    'debtorParticipant_banco_pichincha', 'debtorParticipant_bbva',\n",
    "#    'debtorParticipant_bcp', 'debtorParticipant_caja_arequipa',\n",
    "#    'debtorParticipant_caja_cusco', 'debtorParticipant_caja_ica',\n",
    "#    'debtorParticipant_caja_piura', 'debtorParticipant_caja_sullana',\n",
    "#    'debtorParticipant_caja_trujillo', 'debtorParticipant_comercio',\n",
    "#    'debtorParticipant_crediscotia_financiera', 'debtorParticipant_gnb',\n",
    "#    'debtorParticipant_interbank', 'debtorParticipant_mi_banco',\n",
    "#    'debtorParticipant_scotiabank', 'creditorParticipant_banbif',\n",
    "#    'creditorParticipant_banco_de_la_nacion',\n",
    "#    'creditorParticipant_banco_falabella',\n",
    "#    'creditorParticipant_banco_pichincha', 'creditorParticipant_bbva',\n",
    "#    'creditorParticipant_bcp', 'creditorParticipant_caja_arequipa',\n",
    "#    'creditorParticipant_caja_cusco', 'creditorParticipant_caja_ica',\n",
    "#    'creditorParticipant_caja_piura', 'creditorParticipant_caja_sullana',\n",
    "#    'creditorParticipant_caja_trujillo', 'creditorParticipant_citibank',\n",
    "#    'creditorParticipant_comercio',\n",
    "#    'creditorParticipant_crediscotia_financiera', 'creditorParticipant_gnb',\n",
    "#    'creditorParticipant_interbank', 'creditorParticipant_mi_banco',\n",
    "#    'creditorParticipant_scotiabank', 'currency_soles',\n",
    "#    'channel_banca_movil', 'channel_invalid', 'channel_web',\n",
    "#    'responseCode_rejected', 'debtorParticipant_financiera_oh',\n",
    "#    'creditorParticipant_financiera_oh', 'debtorParticipant_banbif']\n",
    "# variables = ['creditorParticipant_ratio', 'creditorParticipant_currency_ratio', 'creditorParticipant_channel_ratio', 'creditorParticipant_responseCode_ratio', 'creditorParticipant_debtorParticipant_ratio', 'creditorParticipant_Weekday_ratio', 'creditorParticipant_time_interval_ratio', 'creditorParticipant_creditorCCI_ratio', 'currency_ratio', 'currency_channel_ratio', 'currency_responseCode_ratio', 'currency_debtorParticipant_ratio', 'currency_Weekday_ratio', 'currency_time_interval_ratio', 'currency_creditorCCI_ratio', 'channel_ratio', 'channel_responseCode_ratio', 'channel_debtorParticipant_ratio', 'channel_Weekday_ratio', 'channel_time_interval_ratio', 'channel_creditorCCI_ratio', 'responseCode_ratio', 'responseCode_debtorParticipant_ratio', 'responseCode_Weekday_ratio', 'responseCode_time_interval_ratio', 'responseCode_creditorCCI_ratio', 'debtorParticipant_ratio', 'debtorParticipant_Weekday_ratio', 'debtorParticipant_time_interval_ratio', 'debtorParticipant_creditorCCI_ratio', 'Weekday_ratio', 'Weekday_time_interval_ratio', 'Weekday_creditorCCI_ratio', 'time_interval_ratio', 'time_interval_creditorCCI_ratio', 'creditorCCI_ratio', 'hourSin', 'hourCos', 'dayOfYearSin', 'dayOfYearCos', 'dayOfMonthSin', 'dayOfMonthCos', 'dayOfWeekSin', 'dayOfWeekCos', 'debtorParticipant_banbif', 'debtorParticipant_banco_de_la_nacion', 'debtorParticipant_banco_falabella', 'debtorParticipant_banco_pichincha', 'debtorParticipant_banco_ripley', 'debtorParticipant_bbva', 'debtorParticipant_bcp', 'debtorParticipant_caja_arequipa', 'debtorParticipant_caja_cusco', 'debtorParticipant_caja_huancayo', 'debtorParticipant_caja_ica', 'debtorParticipant_caja_piura', 'debtorParticipant_caja_sullana', 'debtorParticipant_caja_trujillo', 'debtorParticipant_comercio', 'debtorParticipant_crediscotia_financiera', 'debtorParticipant_financiera_efectiva', 'debtorParticipant_financiera_oh', 'debtorParticipant_gnb', 'debtorParticipant_interbank', 'debtorParticipant_invalid', 'debtorParticipant_mi_banco', 'debtorParticipant_scotiabank', 'creditorParticipant_banbif', 'creditorParticipant_banco_de_la_nacion', 'creditorParticipant_banco_falabella', 'creditorParticipant_banco_pichincha', 'creditorParticipant_banco_ripley', 'creditorParticipant_bbva', 'creditorParticipant_bcp', 'creditorParticipant_caja_arequipa', 'creditorParticipant_caja_cusco', 'creditorParticipant_caja_huancayo', 'creditorParticipant_caja_ica', 'creditorParticipant_caja_piura', 'creditorParticipant_caja_sullana', 'creditorParticipant_caja_trujillo', 'creditorParticipant_citibank', 'creditorParticipant_comercio', 'creditorParticipant_crediscotia_financiera', 'creditorParticipant_financiera_efectiva', 'creditorParticipant_financiera_oh', 'creditorParticipant_gnb', 'creditorParticipant_interbank', 'creditorParticipant_invalid', 'creditorParticipant_mi_banco', 'creditorParticipant_scotiabank', 'currency_soles', 'channel_banca_movil', 'channel_invalid', 'channel_web', 'responseCode_rejected']\n",
    "variables = ['creditorParticipant_ratio', 'creditorParticipant_currency_ratio', 'creditorParticipant_channel_ratio', 'creditorParticipant_responseCode_ratio', 'creditorParticipant_debtorParticipant_ratio', 'creditorParticipant_Weekday_ratio', 'creditorParticipant_time_interval_ratio', 'creditorParticipant_creditorCCI_ratio', 'currency_ratio', 'currency_channel_ratio', 'currency_responseCode_ratio', 'currency_debtorParticipant_ratio', 'currency_Weekday_ratio', 'currency_time_interval_ratio', 'currency_creditorCCI_ratio', 'channel_ratio', 'channel_responseCode_ratio', 'channel_debtorParticipant_ratio', 'channel_Weekday_ratio', 'channel_time_interval_ratio', 'channel_creditorCCI_ratio', 'responseCode_ratio', 'responseCode_debtorParticipant_ratio', 'responseCode_Weekday_ratio', 'responseCode_time_interval_ratio', 'responseCode_creditorCCI_ratio', 'debtorParticipant_ratio', 'debtorParticipant_Weekday_ratio', 'debtorParticipant_time_interval_ratio', 'debtorParticipant_creditorCCI_ratio', 'Weekday_ratio', 'Weekday_time_interval_ratio', 'Weekday_creditorCCI_ratio', 'time_interval_ratio', 'time_interval_creditorCCI_ratio', 'creditorCCI_ratio', 'hourSin', 'hourCos', 'dayOfYearSin', 'dayOfYearCos', 'dayOfMonthSin', 'dayOfMonthCos', 'dayOfWeekSin', 'dayOfWeekCos','debtorParticipant_bcp','debtorParticipant_interbank','debtorParticipant_citibank','debtorParticipant_scotiabank','debtorParticipant_bbva','debtorParticipant_banco_de_la_nacion','debtorParticipant_comercio','debtorParticipant_banco_pichincha','debtorParticipant_banbif','debtorParticipant_crediscotia_financiera','debtorParticipant_mi_banco','debtorParticipant_gnb','debtorParticipant_banco_falabella','debtorParticipant_banco_ripley','debtorParticipant_alfin_banco_s.a.','debtorParticipant_financiera_oh','debtorParticipant_financiera_efectiva','debtorParticipant_caja_piura','debtorParticipant_caja_trujillo','debtorParticipant_caja_arequipa','debtorParticipant_caja_sullana','debtorParticipant_caja_cusco','debtorParticipant_caja_huancayo','debtorParticipant_caja_ica','debtorParticipant_invalid','creditorParticipant_bcp','creditorParticipant_interbank','creditorParticipant_citibank','creditorParticipant_scotiabank','creditorParticipant_bbva','creditorParticipant_banco_de_la_nacion','creditorParticipant_comercio','creditorParticipant_banco_pichincha','creditorParticipant_banbif','creditorParticipant_crediscotia_financiera','creditorParticipant_mi_banco','creditorParticipant_gnb','creditorParticipant_banco_falabella','creditorParticipant_banco_ripley','creditorParticipant_alfin_banco_s.a.','creditorParticipant_financiera_oh','creditorParticipant_financiera_efectiva','creditorParticipant_caja_piura','creditorParticipant_caja_trujillo','creditorParticipant_caja_arequipa','creditorParticipant_caja_sullana','creditorParticipant_caja_cusco','creditorParticipant_caja_huancayo','creditorParticipant_caja_ica','creditorParticipant_invalid', 'currency_soles', 'channel_banca_movil', 'channel_invalid', 'channel_web', 'responseCode_rejected']\n",
    "# Crear columnas si faltaran\n",
    "for col in variables:\n",
    "    if col not in AV_7.columns:\n",
    "        AV_7[col] = 0\n",
    "for col in variables:\n",
    "    if col not in AV_90.columns:\n",
    "        AV_90[col] = 0\n",
    "\n"
   ]
  },
  {
   "cell_type": "code",
   "execution_count": 58,
   "metadata": {
    "metadata": {}
   },
   "outputs": [],
   "source": [
    "def predict_isolation_forest(input_data, model):\n",
    "    print(input_data.columns.tolist())\n",
    "    y_pred = model.predict(input_data)\n",
    "    y_pred = [1 if pred == -1 else 0 for pred in y_pred]\n",
    "    y_pred_series = pd.Series(data=y_pred, index=input_data.index).astype(\"uint8\")\n",
    "    return y_pred_series\n",
    "\n",
    "def score_isolation_forest(input_data, model):\n",
    "    print(input_data.columns.tolist())\n",
    "    y_pred = model.decision_function(input_data)\n",
    "    min_value = -0.11774102106942208\n",
    "    max_value = 0.1602303765911105\n",
    "    # norm_y_pred = (y_pred - min_value) / (max_value - min_value) * 99\n",
    "    norm_y_pred = (max_value - y_pred) / (max_value - min_value) * 99\n",
    "    # norm_y_pred = max(0, min(norm_y_pred, 99))\n",
    "    # y_pred = [1 if pred == -1 else 0 for pred in y_pred]\n",
    "    norm_y_pred = norm_y_pred.clip(min=0.0, max=99.0)\n",
    "    # y_pred_series = pd.Series(data=y_pred, index=input_data.index).astype(\"float64\")\n",
    "    y_pred_series = pd.Series(data=norm_y_pred, index=input_data.index).astype(\"float64\")\n",
    "    return y_pred_series"
   ]
  },
  {
   "cell_type": "code",
   "execution_count": 45,
   "metadata": {
    "metadata": {}
   },
   "outputs": [
    {
     "name": "stdout",
     "output_type": "stream",
     "text": [
      "['creditorParticipant_ratio', 'creditorParticipant_currency_ratio', 'creditorParticipant_channel_ratio', 'creditorParticipant_responseCode_ratio', 'creditorParticipant_debtorParticipant_ratio', 'creditorParticipant_Weekday_ratio', 'creditorParticipant_time_interval_ratio', 'creditorParticipant_creditorCCI_ratio', 'currency_ratio', 'currency_channel_ratio', 'currency_responseCode_ratio', 'currency_debtorParticipant_ratio', 'currency_Weekday_ratio', 'currency_time_interval_ratio', 'currency_creditorCCI_ratio', 'channel_ratio', 'channel_responseCode_ratio', 'channel_debtorParticipant_ratio', 'channel_Weekday_ratio', 'channel_time_interval_ratio', 'channel_creditorCCI_ratio', 'responseCode_ratio', 'responseCode_debtorParticipant_ratio', 'responseCode_Weekday_ratio', 'responseCode_time_interval_ratio', 'responseCode_creditorCCI_ratio', 'debtorParticipant_ratio', 'debtorParticipant_Weekday_ratio', 'debtorParticipant_time_interval_ratio', 'debtorParticipant_creditorCCI_ratio', 'Weekday_ratio', 'Weekday_time_interval_ratio', 'Weekday_creditorCCI_ratio', 'time_interval_ratio', 'time_interval_creditorCCI_ratio', 'creditorCCI_ratio', 'hourSin', 'hourCos', 'dayOfYearSin', 'dayOfYearCos', 'dayOfMonthSin', 'dayOfMonthCos', 'dayOfWeekSin', 'dayOfWeekCos', 'debtorParticipant_bcp', 'debtorParticipant_interbank', 'debtorParticipant_citibank', 'debtorParticipant_scotiabank', 'debtorParticipant_bbva', 'debtorParticipant_banco_de_la_nacion', 'debtorParticipant_comercio', 'debtorParticipant_banco_pichincha', 'debtorParticipant_banbif', 'debtorParticipant_crediscotia_financiera', 'debtorParticipant_mi_banco', 'debtorParticipant_gnb', 'debtorParticipant_banco_falabella', 'debtorParticipant_banco_ripley', 'debtorParticipant_alfin_banco_s.a.', 'debtorParticipant_financiera_oh', 'debtorParticipant_financiera_efectiva', 'debtorParticipant_caja_piura', 'debtorParticipant_caja_trujillo', 'debtorParticipant_caja_arequipa', 'debtorParticipant_caja_sullana', 'debtorParticipant_caja_cusco', 'debtorParticipant_caja_huancayo', 'debtorParticipant_caja_ica', 'debtorParticipant_invalid', 'creditorParticipant_bcp', 'creditorParticipant_interbank', 'creditorParticipant_citibank', 'creditorParticipant_scotiabank', 'creditorParticipant_bbva', 'creditorParticipant_banco_de_la_nacion', 'creditorParticipant_comercio', 'creditorParticipant_banco_pichincha', 'creditorParticipant_banbif', 'creditorParticipant_crediscotia_financiera', 'creditorParticipant_mi_banco', 'creditorParticipant_gnb', 'creditorParticipant_banco_falabella', 'creditorParticipant_banco_ripley', 'creditorParticipant_alfin_banco_s.a.', 'creditorParticipant_financiera_oh', 'creditorParticipant_financiera_efectiva', 'creditorParticipant_caja_piura', 'creditorParticipant_caja_trujillo', 'creditorParticipant_caja_arequipa', 'creditorParticipant_caja_sullana', 'creditorParticipant_caja_cusco', 'creditorParticipant_caja_huancayo', 'creditorParticipant_caja_ica', 'creditorParticipant_invalid', 'currency_soles', 'channel_banca_movil', 'channel_invalid', 'channel_web', 'responseCode_rejected']\n",
      "['creditorParticipant_ratio', 'creditorParticipant_currency_ratio', 'creditorParticipant_channel_ratio', 'creditorParticipant_responseCode_ratio', 'creditorParticipant_debtorParticipant_ratio', 'creditorParticipant_Weekday_ratio', 'creditorParticipant_time_interval_ratio', 'creditorParticipant_creditorCCI_ratio', 'currency_ratio', 'currency_channel_ratio', 'currency_responseCode_ratio', 'currency_debtorParticipant_ratio', 'currency_Weekday_ratio', 'currency_time_interval_ratio', 'currency_creditorCCI_ratio', 'channel_ratio', 'channel_responseCode_ratio', 'channel_debtorParticipant_ratio', 'channel_Weekday_ratio', 'channel_time_interval_ratio', 'channel_creditorCCI_ratio', 'responseCode_ratio', 'responseCode_debtorParticipant_ratio', 'responseCode_Weekday_ratio', 'responseCode_time_interval_ratio', 'responseCode_creditorCCI_ratio', 'debtorParticipant_ratio', 'debtorParticipant_Weekday_ratio', 'debtorParticipant_time_interval_ratio', 'debtorParticipant_creditorCCI_ratio', 'Weekday_ratio', 'Weekday_time_interval_ratio', 'Weekday_creditorCCI_ratio', 'time_interval_ratio', 'time_interval_creditorCCI_ratio', 'creditorCCI_ratio', 'hourSin', 'hourCos', 'dayOfYearSin', 'dayOfYearCos', 'dayOfMonthSin', 'dayOfMonthCos', 'dayOfWeekSin', 'dayOfWeekCos', 'debtorParticipant_bcp', 'debtorParticipant_interbank', 'debtorParticipant_citibank', 'debtorParticipant_scotiabank', 'debtorParticipant_bbva', 'debtorParticipant_banco_de_la_nacion', 'debtorParticipant_comercio', 'debtorParticipant_banco_pichincha', 'debtorParticipant_banbif', 'debtorParticipant_crediscotia_financiera', 'debtorParticipant_mi_banco', 'debtorParticipant_gnb', 'debtorParticipant_banco_falabella', 'debtorParticipant_banco_ripley', 'debtorParticipant_alfin_banco_s.a.', 'debtorParticipant_financiera_oh', 'debtorParticipant_financiera_efectiva', 'debtorParticipant_caja_piura', 'debtorParticipant_caja_trujillo', 'debtorParticipant_caja_arequipa', 'debtorParticipant_caja_sullana', 'debtorParticipant_caja_cusco', 'debtorParticipant_caja_huancayo', 'debtorParticipant_caja_ica', 'debtorParticipant_invalid', 'creditorParticipant_bcp', 'creditorParticipant_interbank', 'creditorParticipant_citibank', 'creditorParticipant_scotiabank', 'creditorParticipant_bbva', 'creditorParticipant_banco_de_la_nacion', 'creditorParticipant_comercio', 'creditorParticipant_banco_pichincha', 'creditorParticipant_banbif', 'creditorParticipant_crediscotia_financiera', 'creditorParticipant_mi_banco', 'creditorParticipant_gnb', 'creditorParticipant_banco_falabella', 'creditorParticipant_banco_ripley', 'creditorParticipant_alfin_banco_s.a.', 'creditorParticipant_financiera_oh', 'creditorParticipant_financiera_efectiva', 'creditorParticipant_caja_piura', 'creditorParticipant_caja_trujillo', 'creditorParticipant_caja_arequipa', 'creditorParticipant_caja_sullana', 'creditorParticipant_caja_cusco', 'creditorParticipant_caja_huancayo', 'creditorParticipant_caja_ica', 'creditorParticipant_invalid', 'currency_soles', 'channel_banca_movil', 'channel_invalid', 'channel_web', 'responseCode_rejected']\n",
      "['creditorParticipant_ratio', 'creditorParticipant_currency_ratio', 'creditorParticipant_channel_ratio', 'creditorParticipant_responseCode_ratio', 'creditorParticipant_debtorParticipant_ratio', 'creditorParticipant_Weekday_ratio', 'creditorParticipant_time_interval_ratio', 'creditorParticipant_creditorCCI_ratio', 'currency_ratio', 'currency_channel_ratio', 'currency_responseCode_ratio', 'currency_debtorParticipant_ratio', 'currency_Weekday_ratio', 'currency_time_interval_ratio', 'currency_creditorCCI_ratio', 'channel_ratio', 'channel_responseCode_ratio', 'channel_debtorParticipant_ratio', 'channel_Weekday_ratio', 'channel_time_interval_ratio', 'channel_creditorCCI_ratio', 'responseCode_ratio', 'responseCode_debtorParticipant_ratio', 'responseCode_Weekday_ratio', 'responseCode_time_interval_ratio', 'responseCode_creditorCCI_ratio', 'debtorParticipant_ratio', 'debtorParticipant_Weekday_ratio', 'debtorParticipant_time_interval_ratio', 'debtorParticipant_creditorCCI_ratio', 'Weekday_ratio', 'Weekday_time_interval_ratio', 'Weekday_creditorCCI_ratio', 'time_interval_ratio', 'time_interval_creditorCCI_ratio', 'creditorCCI_ratio', 'hourSin', 'hourCos', 'dayOfYearSin', 'dayOfYearCos', 'dayOfMonthSin', 'dayOfMonthCos', 'dayOfWeekSin', 'dayOfWeekCos', 'debtorParticipant_bcp', 'debtorParticipant_interbank', 'debtorParticipant_citibank', 'debtorParticipant_scotiabank', 'debtorParticipant_bbva', 'debtorParticipant_banco_de_la_nacion', 'debtorParticipant_comercio', 'debtorParticipant_banco_pichincha', 'debtorParticipant_banbif', 'debtorParticipant_crediscotia_financiera', 'debtorParticipant_mi_banco', 'debtorParticipant_gnb', 'debtorParticipant_banco_falabella', 'debtorParticipant_banco_ripley', 'debtorParticipant_alfin_banco_s.a.', 'debtorParticipant_financiera_oh', 'debtorParticipant_financiera_efectiva', 'debtorParticipant_caja_piura', 'debtorParticipant_caja_trujillo', 'debtorParticipant_caja_arequipa', 'debtorParticipant_caja_sullana', 'debtorParticipant_caja_cusco', 'debtorParticipant_caja_huancayo', 'debtorParticipant_caja_ica', 'debtorParticipant_invalid', 'creditorParticipant_bcp', 'creditorParticipant_interbank', 'creditorParticipant_citibank', 'creditorParticipant_scotiabank', 'creditorParticipant_bbva', 'creditorParticipant_banco_de_la_nacion', 'creditorParticipant_comercio', 'creditorParticipant_banco_pichincha', 'creditorParticipant_banbif', 'creditorParticipant_crediscotia_financiera', 'creditorParticipant_mi_banco', 'creditorParticipant_gnb', 'creditorParticipant_banco_falabella', 'creditorParticipant_banco_ripley', 'creditorParticipant_alfin_banco_s.a.', 'creditorParticipant_financiera_oh', 'creditorParticipant_financiera_efectiva', 'creditorParticipant_caja_piura', 'creditorParticipant_caja_trujillo', 'creditorParticipant_caja_arequipa', 'creditorParticipant_caja_sullana', 'creditorParticipant_caja_cusco', 'creditorParticipant_caja_huancayo', 'creditorParticipant_caja_ica', 'creditorParticipant_invalid', 'currency_soles', 'channel_banca_movil', 'channel_invalid', 'channel_web', 'responseCode_rejected']\n",
      "['creditorParticipant_ratio', 'creditorParticipant_currency_ratio', 'creditorParticipant_channel_ratio', 'creditorParticipant_responseCode_ratio', 'creditorParticipant_debtorParticipant_ratio', 'creditorParticipant_Weekday_ratio', 'creditorParticipant_time_interval_ratio', 'creditorParticipant_creditorCCI_ratio', 'currency_ratio', 'currency_channel_ratio', 'currency_responseCode_ratio', 'currency_debtorParticipant_ratio', 'currency_Weekday_ratio', 'currency_time_interval_ratio', 'currency_creditorCCI_ratio', 'channel_ratio', 'channel_responseCode_ratio', 'channel_debtorParticipant_ratio', 'channel_Weekday_ratio', 'channel_time_interval_ratio', 'channel_creditorCCI_ratio', 'responseCode_ratio', 'responseCode_debtorParticipant_ratio', 'responseCode_Weekday_ratio', 'responseCode_time_interval_ratio', 'responseCode_creditorCCI_ratio', 'debtorParticipant_ratio', 'debtorParticipant_Weekday_ratio', 'debtorParticipant_time_interval_ratio', 'debtorParticipant_creditorCCI_ratio', 'Weekday_ratio', 'Weekday_time_interval_ratio', 'Weekday_creditorCCI_ratio', 'time_interval_ratio', 'time_interval_creditorCCI_ratio', 'creditorCCI_ratio', 'hourSin', 'hourCos', 'dayOfYearSin', 'dayOfYearCos', 'dayOfMonthSin', 'dayOfMonthCos', 'dayOfWeekSin', 'dayOfWeekCos', 'debtorParticipant_bcp', 'debtorParticipant_interbank', 'debtorParticipant_citibank', 'debtorParticipant_scotiabank', 'debtorParticipant_bbva', 'debtorParticipant_banco_de_la_nacion', 'debtorParticipant_comercio', 'debtorParticipant_banco_pichincha', 'debtorParticipant_banbif', 'debtorParticipant_crediscotia_financiera', 'debtorParticipant_mi_banco', 'debtorParticipant_gnb', 'debtorParticipant_banco_falabella', 'debtorParticipant_banco_ripley', 'debtorParticipant_alfin_banco_s.a.', 'debtorParticipant_financiera_oh', 'debtorParticipant_financiera_efectiva', 'debtorParticipant_caja_piura', 'debtorParticipant_caja_trujillo', 'debtorParticipant_caja_arequipa', 'debtorParticipant_caja_sullana', 'debtorParticipant_caja_cusco', 'debtorParticipant_caja_huancayo', 'debtorParticipant_caja_ica', 'debtorParticipant_invalid', 'creditorParticipant_bcp', 'creditorParticipant_interbank', 'creditorParticipant_citibank', 'creditorParticipant_scotiabank', 'creditorParticipant_bbva', 'creditorParticipant_banco_de_la_nacion', 'creditorParticipant_comercio', 'creditorParticipant_banco_pichincha', 'creditorParticipant_banbif', 'creditorParticipant_crediscotia_financiera', 'creditorParticipant_mi_banco', 'creditorParticipant_gnb', 'creditorParticipant_banco_falabella', 'creditorParticipant_banco_ripley', 'creditorParticipant_alfin_banco_s.a.', 'creditorParticipant_financiera_oh', 'creditorParticipant_financiera_efectiva', 'creditorParticipant_caja_piura', 'creditorParticipant_caja_trujillo', 'creditorParticipant_caja_arequipa', 'creditorParticipant_caja_sullana', 'creditorParticipant_caja_cusco', 'creditorParticipant_caja_huancayo', 'creditorParticipant_caja_ica', 'creditorParticipant_invalid', 'currency_soles', 'channel_banca_movil', 'channel_invalid', 'channel_web', 'responseCode_rejected']\n"
     ]
    }
   ],
   "source": [
    "AV_7 = AV_7[variables].copy()\n",
    "AV_90 = AV_90[variables].copy()\n",
    "\n",
    "# print(AV_7.columns.tolist())\n",
    "# print(AV_90.columns.tolist())\n",
    "y_pred_7 = predict_isolation_forest(AV_7, model_7)\n",
    "y_pred_90 = predict_isolation_forest(AV_7, model_90)\n",
    "    "
   ]
  },
  {
   "cell_type": "code",
   "execution_count": 59,
   "metadata": {
    "metadata": {}
   },
   "outputs": [
    {
     "name": "stdout",
     "output_type": "stream",
     "text": [
      "['creditorParticipant_ratio', 'creditorParticipant_currency_ratio', 'creditorParticipant_channel_ratio', 'creditorParticipant_responseCode_ratio', 'creditorParticipant_debtorParticipant_ratio', 'creditorParticipant_Weekday_ratio', 'creditorParticipant_time_interval_ratio', 'creditorParticipant_creditorCCI_ratio', 'currency_ratio', 'currency_channel_ratio', 'currency_responseCode_ratio', 'currency_debtorParticipant_ratio', 'currency_Weekday_ratio', 'currency_time_interval_ratio', 'currency_creditorCCI_ratio', 'channel_ratio', 'channel_responseCode_ratio', 'channel_debtorParticipant_ratio', 'channel_Weekday_ratio', 'channel_time_interval_ratio', 'channel_creditorCCI_ratio', 'responseCode_ratio', 'responseCode_debtorParticipant_ratio', 'responseCode_Weekday_ratio', 'responseCode_time_interval_ratio', 'responseCode_creditorCCI_ratio', 'debtorParticipant_ratio', 'debtorParticipant_Weekday_ratio', 'debtorParticipant_time_interval_ratio', 'debtorParticipant_creditorCCI_ratio', 'Weekday_ratio', 'Weekday_time_interval_ratio', 'Weekday_creditorCCI_ratio', 'time_interval_ratio', 'time_interval_creditorCCI_ratio', 'creditorCCI_ratio', 'hourSin', 'hourCos', 'dayOfYearSin', 'dayOfYearCos', 'dayOfMonthSin', 'dayOfMonthCos', 'dayOfWeekSin', 'dayOfWeekCos', 'debtorParticipant_bcp', 'debtorParticipant_interbank', 'debtorParticipant_citibank', 'debtorParticipant_scotiabank', 'debtorParticipant_bbva', 'debtorParticipant_banco_de_la_nacion', 'debtorParticipant_comercio', 'debtorParticipant_banco_pichincha', 'debtorParticipant_banbif', 'debtorParticipant_crediscotia_financiera', 'debtorParticipant_mi_banco', 'debtorParticipant_gnb', 'debtorParticipant_banco_falabella', 'debtorParticipant_banco_ripley', 'debtorParticipant_alfin_banco_s.a.', 'debtorParticipant_financiera_oh', 'debtorParticipant_financiera_efectiva', 'debtorParticipant_caja_piura', 'debtorParticipant_caja_trujillo', 'debtorParticipant_caja_arequipa', 'debtorParticipant_caja_sullana', 'debtorParticipant_caja_cusco', 'debtorParticipant_caja_huancayo', 'debtorParticipant_caja_ica', 'debtorParticipant_invalid', 'creditorParticipant_bcp', 'creditorParticipant_interbank', 'creditorParticipant_citibank', 'creditorParticipant_scotiabank', 'creditorParticipant_bbva', 'creditorParticipant_banco_de_la_nacion', 'creditorParticipant_comercio', 'creditorParticipant_banco_pichincha', 'creditorParticipant_banbif', 'creditorParticipant_crediscotia_financiera', 'creditorParticipant_mi_banco', 'creditorParticipant_gnb', 'creditorParticipant_banco_falabella', 'creditorParticipant_banco_ripley', 'creditorParticipant_alfin_banco_s.a.', 'creditorParticipant_financiera_oh', 'creditorParticipant_financiera_efectiva', 'creditorParticipant_caja_piura', 'creditorParticipant_caja_trujillo', 'creditorParticipant_caja_arequipa', 'creditorParticipant_caja_sullana', 'creditorParticipant_caja_cusco', 'creditorParticipant_caja_huancayo', 'creditorParticipant_caja_ica', 'creditorParticipant_invalid', 'currency_soles', 'channel_banca_movil', 'channel_invalid', 'channel_web', 'responseCode_rejected']\n",
      "['creditorParticipant_ratio', 'creditorParticipant_currency_ratio', 'creditorParticipant_channel_ratio', 'creditorParticipant_responseCode_ratio', 'creditorParticipant_debtorParticipant_ratio', 'creditorParticipant_Weekday_ratio', 'creditorParticipant_time_interval_ratio', 'creditorParticipant_creditorCCI_ratio', 'currency_ratio', 'currency_channel_ratio', 'currency_responseCode_ratio', 'currency_debtorParticipant_ratio', 'currency_Weekday_ratio', 'currency_time_interval_ratio', 'currency_creditorCCI_ratio', 'channel_ratio', 'channel_responseCode_ratio', 'channel_debtorParticipant_ratio', 'channel_Weekday_ratio', 'channel_time_interval_ratio', 'channel_creditorCCI_ratio', 'responseCode_ratio', 'responseCode_debtorParticipant_ratio', 'responseCode_Weekday_ratio', 'responseCode_time_interval_ratio', 'responseCode_creditorCCI_ratio', 'debtorParticipant_ratio', 'debtorParticipant_Weekday_ratio', 'debtorParticipant_time_interval_ratio', 'debtorParticipant_creditorCCI_ratio', 'Weekday_ratio', 'Weekday_time_interval_ratio', 'Weekday_creditorCCI_ratio', 'time_interval_ratio', 'time_interval_creditorCCI_ratio', 'creditorCCI_ratio', 'hourSin', 'hourCos', 'dayOfYearSin', 'dayOfYearCos', 'dayOfMonthSin', 'dayOfMonthCos', 'dayOfWeekSin', 'dayOfWeekCos', 'debtorParticipant_bcp', 'debtorParticipant_interbank', 'debtorParticipant_citibank', 'debtorParticipant_scotiabank', 'debtorParticipant_bbva', 'debtorParticipant_banco_de_la_nacion', 'debtorParticipant_comercio', 'debtorParticipant_banco_pichincha', 'debtorParticipant_banbif', 'debtorParticipant_crediscotia_financiera', 'debtorParticipant_mi_banco', 'debtorParticipant_gnb', 'debtorParticipant_banco_falabella', 'debtorParticipant_banco_ripley', 'debtorParticipant_alfin_banco_s.a.', 'debtorParticipant_financiera_oh', 'debtorParticipant_financiera_efectiva', 'debtorParticipant_caja_piura', 'debtorParticipant_caja_trujillo', 'debtorParticipant_caja_arequipa', 'debtorParticipant_caja_sullana', 'debtorParticipant_caja_cusco', 'debtorParticipant_caja_huancayo', 'debtorParticipant_caja_ica', 'debtorParticipant_invalid', 'creditorParticipant_bcp', 'creditorParticipant_interbank', 'creditorParticipant_citibank', 'creditorParticipant_scotiabank', 'creditorParticipant_bbva', 'creditorParticipant_banco_de_la_nacion', 'creditorParticipant_comercio', 'creditorParticipant_banco_pichincha', 'creditorParticipant_banbif', 'creditorParticipant_crediscotia_financiera', 'creditorParticipant_mi_banco', 'creditorParticipant_gnb', 'creditorParticipant_banco_falabella', 'creditorParticipant_banco_ripley', 'creditorParticipant_alfin_banco_s.a.', 'creditorParticipant_financiera_oh', 'creditorParticipant_financiera_efectiva', 'creditorParticipant_caja_piura', 'creditorParticipant_caja_trujillo', 'creditorParticipant_caja_arequipa', 'creditorParticipant_caja_sullana', 'creditorParticipant_caja_cusco', 'creditorParticipant_caja_huancayo', 'creditorParticipant_caja_ica', 'creditorParticipant_invalid', 'currency_soles', 'channel_banca_movil', 'channel_invalid', 'channel_web', 'responseCode_rejected']\n"
     ]
    }
   ],
   "source": [
    "y_score_7 = score_isolation_forest(AV_7, model_7)\n",
    "y_score_90 = score_isolation_forest(AV_7, model_90)"
   ]
  },
  {
   "cell_type": "code",
   "execution_count": 52,
   "metadata": {
    "metadata": {}
   },
   "outputs": [
    {
     "data": {
      "text/plain": [
       "-0.025661208596230667"
      ]
     },
     "execution_count": 52,
     "metadata": {},
     "output_type": "execute_result"
    }
   ],
   "source": [
    "y_score_7.min(), \n"
   ]
  },
  {
   "cell_type": "code",
   "execution_count": 46,
   "metadata": {
    "metadata": {}
   },
   "outputs": [
    {
     "data": {
      "text/plain": [
       "((194,), (194,))"
      ]
     },
     "execution_count": 46,
     "metadata": {},
     "output_type": "execute_result"
    }
   ],
   "source": [
    "y_pred_7.shape, y_pred_90.shape"
   ]
  },
  {
   "cell_type": "code",
   "execution_count": 79,
   "metadata": {
    "metadata": {}
   },
   "outputs": [],
   "source": [
    "\n",
    "# Path to the directory to sAV_7e the output of prediction\n",
    "y_pred_7.to_pickle(\"prediction_model_7.pickle\")\n",
    "y_pred_90.to_pickle(\"prediction_model_90.pickle\")\n",
    "\n",
    "# Dataframe fraud_model_predict (features id + descriptive + rate + prediction)\n",
    "id_descriptive_features_list = \\\n",
    "['pk', 'debtorId', 'creditorCCI', 'creditorId', 'creditorIdCode', 'message_id', 'trace', 'instruction_id', 'run_id',\n",
    "    'creationDate', 'creationTime', 'channel', 'currency', 'creditorParticipant', 'debtorParticipant',\n",
    "    'debtorTypeOfPerson', 'transactionType', 'debtorIdCode', 'reasonCode', 'responseCode', ]\n",
    "rate_features_list_7 = AV_7.filter(like=\"_ratio\").columns.to_list()\n",
    "rate_features_list_90 = AV_90.filter(like=\"_ratio\").columns.to_list()\n",
    "\n",
    "df_fraud_model_predict_7 = original_values_set[id_descriptive_features_list]\\\n",
    "    .merge(AV_7[rate_features_list_7], how=\"inner\", left_index=True, right_index=True)\n",
    "df_fraud_model_predict_7 = df_fraud_model_predict_7\\\n",
    "    .merge(y_pred_7.rename(\"prediction\"), how=\"inner\", left_index=True, right_index=True)\n",
    "\n",
    "df_fraud_model_predict_7 = df_fraud_model_predict_7\\\n",
    "    .merge(y_score_7.rename(\"score\"), how=\"inner\", left_index=True, right_index=True)\n",
    "df_fraud_model_predict_7.columns=[\"pk\",\"debtor_id\",\"creditor_cci\",\"creditor_id\",\"creditor_id_code\",\"message_id\",\"trace\",\"instruction_id\",\"run_id\",\"creation_date\",\"creation_time\",\"channel\",\"currency\",\"creditor_participant\",\"debtor_participant\",\"debtor_type_of_person\",\"transaction_type\",\"debtor_id_code\",\"reason_code\",\"response_code\",\"creditor_participant_ratio\",\"creditor_participant_currency_ratio\",\"creditor_participant_channel_ratio\",\"creditor_participant_response_code_ratio\",\"creditor_participant_debtor_participant_ratio\",\"creditor_participant_weekday_ratio\",\"creditor_participant_time_interval_ratio\",\"creditor_participant_creditor_cci_ratio\",\"currency_ratio\",\"currency_channel_ratio\",\"currency_response_code_ratio\",\"currency_debtor_participant_ratio\",\"currency_weekday_ratio\",\"currency_time_interval_ratio\",\"currency_creditor_cci_ratio\",\"channel_ratio\",\"channel_response_code_ratio\",\"channel_debtor_participant_ratio\",\"channel_weekday_ratio\",\"channel_time_interval_ratio\",\"channel_creditor_cci_ratio\",\"response_code_ratio\",\"response_code_debtor_participant_ratio\",\"response_code_weekday_ratio\",\"response_code_time_interval_ratio\",\"response_code_creditor_cci_ratio\",\"debtor_participant_ratio\",\"debtor_participant_weekday_ratio\",\"debtor_participant_time_interval_ratio\",\"debtor_participant_creditor_cci_ratio\", \"weekday_ratio\",\"weekday_time_interval_ratio\",\"weekday_creditor_cci_ratio\",\"time_interval_ratio\",\"time_interval_creditor_cci_ratio\",\"creditor_cci_ratio\",\"prediction\", \"score\"]    # Load predictions to table\n",
    "#df_fraud_model_predict_7[\"pk\"]=df_fraud_model_predict_7[\"pk\"]+\"_l1\"\n",
    "\n",
    "df_fraud_model_predict_90 = original_values_set[id_descriptive_features_list]\\\n",
    "    .merge(AV_90[rate_features_list_90], how=\"inner\", left_index=True, right_index=True)\n",
    "df_fraud_model_predict_90 = df_fraud_model_predict_90\\\n",
    "    .merge(y_pred_90.rename(\"prediction\"), how=\"inner\", left_index=True, right_index=True)\n",
    "df_fraud_model_predict_90.columns=[\"pk\",\"debtor_id\",\"creditor_cci\",\"creditor_id\",\"creditor_id_code\",\"message_id\",\"trace\",\"instruction_id\",\"run_id\",\"creation_date\",\"creation_time\",\"channel\",\"currency\",\"creditor_participant\",\"debtor_participant\",\"debtor_type_of_person\",\"transaction_type\",\"debtor_id_code\",\"reason_code\",\"response_code\",\"creditor_participant_ratio\",\"creditor_participant_currency_ratio\",\"creditor_participant_channel_ratio\",\"creditor_participant_response_code_ratio\",\"creditor_participant_debtor_participant_ratio\",\"creditor_participant_weekday_ratio\",\"creditor_participant_time_interval_ratio\",\"creditor_participant_creditor_cci_ratio\",\"currency_ratio\",\"currency_channel_ratio\",\"currency_response_code_ratio\",\"currency_debtor_participant_ratio\",\"currency_weekday_ratio\",\"currency_time_interval_ratio\",\"currency_creditor_cci_ratio\",\"channel_ratio\",\"channel_response_code_ratio\",\"channel_debtor_participant_ratio\",\"channel_weekday_ratio\",\"channel_time_interval_ratio\",\"channel_creditor_cci_ratio\",\"response_code_ratio\",\"response_code_debtor_participant_ratio\",\"response_code_weekday_ratio\",\"response_code_time_interval_ratio\",\"response_code_creditor_cci_ratio\",\"debtor_participant_ratio\",\"debtor_participant_weekday_ratio\",\"debtor_participant_time_interval_ratio\",\"debtor_participant_creditor_cci_ratio\", \"weekday_ratio\",\"weekday_time_interval_ratio\",\"weekday_creditor_cci_ratio\",\"time_interval_ratio\",\"time_interval_creditor_cci_ratio\",\"creditor_cci_ratio\",\"prediction\"]    # Load predictions to table\n",
    "#df_fraud_model_predict_90[\"pk\"]=df_fraud_model_predict_90[\"pk\"]+\"_l1\"\n",
    "# model_version = 'MOD_OLD_7'\n",
    "# load_predictions_to_database(df_fraud_model_predict_7, 'MOD_7_280824_v1')\n",
    "# load_predictions_to_database(df_fraud_model_predict_90, 'MOD_90_280824_v1')\n",
    "\n",
    "\n",
    "# # Update process status\n",
    "# # run_id = df_fraud_model_predict_7.run_id.max()\n",
    "# run_id = max_run_id\n",
    "# update_process_status_to_database(run_id,2,\"run_process_end_datetime\")"
   ]
  },
  {
   "cell_type": "code",
   "execution_count": 80,
   "metadata": {
    "metadata": {}
   },
   "outputs": [
    {
     "data": {
      "text/html": [
       "<div>\n",
       "<style scoped>\n",
       "    .dataframe tbody tr th:only-of-type {\n",
       "        vertical-align: middle;\n",
       "    }\n",
       "\n",
       "    .dataframe tbody tr th {\n",
       "        vertical-align: top;\n",
       "    }\n",
       "\n",
       "    .dataframe thead th {\n",
       "        text-align: right;\n",
       "    }\n",
       "</style>\n",
       "<table border=\"1\" class=\"dataframe\">\n",
       "  <thead>\n",
       "    <tr style=\"text-align: right;\">\n",
       "      <th></th>\n",
       "      <th>pk</th>\n",
       "      <th>debtor_id</th>\n",
       "      <th>creditor_cci</th>\n",
       "      <th>creditor_id</th>\n",
       "      <th>creditor_id_code</th>\n",
       "      <th>message_id</th>\n",
       "      <th>trace</th>\n",
       "      <th>instruction_id</th>\n",
       "      <th>run_id</th>\n",
       "      <th>creation_date</th>\n",
       "      <th>...</th>\n",
       "      <th>debtor_participant_time_interval_ratio</th>\n",
       "      <th>debtor_participant_creditor_cci_ratio</th>\n",
       "      <th>weekday_ratio</th>\n",
       "      <th>weekday_time_interval_ratio</th>\n",
       "      <th>weekday_creditor_cci_ratio</th>\n",
       "      <th>time_interval_ratio</th>\n",
       "      <th>time_interval_creditor_cci_ratio</th>\n",
       "      <th>creditor_cci_ratio</th>\n",
       "      <th>prediction</th>\n",
       "      <th>score</th>\n",
       "    </tr>\n",
       "  </thead>\n",
       "  <tbody>\n",
       "    <tr>\n",
       "      <th>390726</th>\n",
       "      <td>3305251443_003347_320_0002_0018_20240828</td>\n",
       "      <td>75279319</td>\n",
       "      <td>00219110155250708851</td>\n",
       "      <td>75279319</td>\n",
       "      <td>2</td>\n",
       "      <td>3305251443</td>\n",
       "      <td>003347</td>\n",
       "      <td>2024082804412100188152003347</td>\n",
       "      <td>20240828_0057</td>\n",
       "      <td>2024-08-28</td>\n",
       "      <td>...</td>\n",
       "      <td>0.000000</td>\n",
       "      <td>0.000000</td>\n",
       "      <td>0.000000</td>\n",
       "      <td>0.000000</td>\n",
       "      <td>0.000000</td>\n",
       "      <td>0.000000</td>\n",
       "      <td>0.000000</td>\n",
       "      <td>0.000000</td>\n",
       "      <td>0</td>\n",
       "      <td>42.513859</td>\n",
       "    </tr>\n",
       "    <tr>\n",
       "      <th>390727</th>\n",
       "      <td>3305251650_718217_320_0003_0038_20240828</td>\n",
       "      <td>41018471</td>\n",
       "      <td>00336701319200535004</td>\n",
       "      <td>41018471</td>\n",
       "      <td>2</td>\n",
       "      <td>3305251650</td>\n",
       "      <td>718217</td>\n",
       "      <td>2024082804410200388115718217</td>\n",
       "      <td>20240828_0057</td>\n",
       "      <td>2024-08-28</td>\n",
       "      <td>...</td>\n",
       "      <td>0.000000</td>\n",
       "      <td>0.833333</td>\n",
       "      <td>0.000000</td>\n",
       "      <td>0.000000</td>\n",
       "      <td>0.000000</td>\n",
       "      <td>0.000000</td>\n",
       "      <td>0.000000</td>\n",
       "      <td>0.833333</td>\n",
       "      <td>0</td>\n",
       "      <td>34.965505</td>\n",
       "    </tr>\n",
       "    <tr>\n",
       "      <th>390728</th>\n",
       "      <td>3305251670_033331_320_0002_0018_20240828</td>\n",
       "      <td>71106676</td>\n",
       "      <td>00235017552542503970</td>\n",
       "      <td>71106676</td>\n",
       "      <td>2</td>\n",
       "      <td>3305251670</td>\n",
       "      <td>033331</td>\n",
       "      <td>2024082804413000188191033331</td>\n",
       "      <td>20240828_0057</td>\n",
       "      <td>2024-08-28</td>\n",
       "      <td>...</td>\n",
       "      <td>0.090909</td>\n",
       "      <td>0.909091</td>\n",
       "      <td>0.272727</td>\n",
       "      <td>0.000000</td>\n",
       "      <td>0.272727</td>\n",
       "      <td>0.090909</td>\n",
       "      <td>0.090909</td>\n",
       "      <td>0.909091</td>\n",
       "      <td>0</td>\n",
       "      <td>27.143799</td>\n",
       "    </tr>\n",
       "    <tr>\n",
       "      <th>390729</th>\n",
       "      <td>3305252105_126540_320_0054_0002_20240828</td>\n",
       "      <td>74645897</td>\n",
       "      <td>05410382103144792875</td>\n",
       "      <td>None</td>\n",
       "      <td>None</td>\n",
       "      <td>3305252105</td>\n",
       "      <td>126540</td>\n",
       "      <td>2024082804411100028152126540</td>\n",
       "      <td>20240828_0057</td>\n",
       "      <td>2024-08-28</td>\n",
       "      <td>...</td>\n",
       "      <td>0.100000</td>\n",
       "      <td>0.400000</td>\n",
       "      <td>0.000000</td>\n",
       "      <td>0.000000</td>\n",
       "      <td>0.000000</td>\n",
       "      <td>0.200000</td>\n",
       "      <td>0.100000</td>\n",
       "      <td>0.400000</td>\n",
       "      <td>0</td>\n",
       "      <td>41.524242</td>\n",
       "    </tr>\n",
       "    <tr>\n",
       "      <th>390730</th>\n",
       "      <td>3305252114_126541_320_0003_0002_20240828</td>\n",
       "      <td>71882483</td>\n",
       "      <td>00389801316240114042</td>\n",
       "      <td>71882483</td>\n",
       "      <td>2</td>\n",
       "      <td>3305252114</td>\n",
       "      <td>126541</td>\n",
       "      <td>2024082804411200028152126541</td>\n",
       "      <td>20240828_0057</td>\n",
       "      <td>2024-08-28</td>\n",
       "      <td>...</td>\n",
       "      <td>0.142857</td>\n",
       "      <td>0.142857</td>\n",
       "      <td>0.142857</td>\n",
       "      <td>0.142857</td>\n",
       "      <td>0.142857</td>\n",
       "      <td>0.142857</td>\n",
       "      <td>0.142857</td>\n",
       "      <td>0.142857</td>\n",
       "      <td>0</td>\n",
       "      <td>48.134314</td>\n",
       "    </tr>\n",
       "  </tbody>\n",
       "</table>\n",
       "<p>5 rows × 58 columns</p>\n",
       "</div>"
      ],
      "text/plain": [
       "                                              pk debtor_id  \\\n",
       "390726  3305251443_003347_320_0002_0018_20240828  75279319   \n",
       "390727  3305251650_718217_320_0003_0038_20240828  41018471   \n",
       "390728  3305251670_033331_320_0002_0018_20240828  71106676   \n",
       "390729  3305252105_126540_320_0054_0002_20240828  74645897   \n",
       "390730  3305252114_126541_320_0003_0002_20240828  71882483   \n",
       "\n",
       "                creditor_cci creditor_id creditor_id_code  message_id   trace  \\\n",
       "390726  00219110155250708851    75279319                2  3305251443  003347   \n",
       "390727  00336701319200535004    41018471                2  3305251650  718217   \n",
       "390728  00235017552542503970    71106676                2  3305251670  033331   \n",
       "390729  05410382103144792875        None             None  3305252105  126540   \n",
       "390730  00389801316240114042    71882483                2  3305252114  126541   \n",
       "\n",
       "                      instruction_id         run_id creation_date  ...  \\\n",
       "390726  2024082804412100188152003347  20240828_0057    2024-08-28  ...   \n",
       "390727  2024082804410200388115718217  20240828_0057    2024-08-28  ...   \n",
       "390728  2024082804413000188191033331  20240828_0057    2024-08-28  ...   \n",
       "390729  2024082804411100028152126540  20240828_0057    2024-08-28  ...   \n",
       "390730  2024082804411200028152126541  20240828_0057    2024-08-28  ...   \n",
       "\n",
       "       debtor_participant_time_interval_ratio  \\\n",
       "390726                               0.000000   \n",
       "390727                               0.000000   \n",
       "390728                               0.090909   \n",
       "390729                               0.100000   \n",
       "390730                               0.142857   \n",
       "\n",
       "       debtor_participant_creditor_cci_ratio weekday_ratio  \\\n",
       "390726                              0.000000      0.000000   \n",
       "390727                              0.833333      0.000000   \n",
       "390728                              0.909091      0.272727   \n",
       "390729                              0.400000      0.000000   \n",
       "390730                              0.142857      0.142857   \n",
       "\n",
       "       weekday_time_interval_ratio weekday_creditor_cci_ratio  \\\n",
       "390726                    0.000000                   0.000000   \n",
       "390727                    0.000000                   0.000000   \n",
       "390728                    0.000000                   0.272727   \n",
       "390729                    0.000000                   0.000000   \n",
       "390730                    0.142857                   0.142857   \n",
       "\n",
       "       time_interval_ratio time_interval_creditor_cci_ratio  \\\n",
       "390726            0.000000                         0.000000   \n",
       "390727            0.000000                         0.000000   \n",
       "390728            0.090909                         0.090909   \n",
       "390729            0.200000                         0.100000   \n",
       "390730            0.142857                         0.142857   \n",
       "\n",
       "       creditor_cci_ratio prediction      score  \n",
       "390726           0.000000          0  42.513859  \n",
       "390727           0.833333          0  34.965505  \n",
       "390728           0.909091          0  27.143799  \n",
       "390729           0.400000          0  41.524242  \n",
       "390730           0.142857          0  48.134314  \n",
       "\n",
       "[5 rows x 58 columns]"
      ]
     },
     "execution_count": 80,
     "metadata": {},
     "output_type": "execute_result"
    }
   ],
   "source": [
    "df_fraud_model_predict_7.head()"
   ]
  },
  {
   "cell_type": "code",
   "execution_count": 42,
   "metadata": {
    "metadata": {}
   },
   "outputs": [],
   "source": [
    "def predict_isolation_forest(input_data, model):\n",
    "    print(input_data.columns.tolist())\n",
    "    y_pred = model.predict(input_data)\n",
    "    y_pred = [1 if pred == -1 else 0 for pred in y_pred]\n",
    "    y_pred_series = pd.Series(data=y_pred, index=input_data.index).astype(\"uint8\")\n",
    "    return y_pred_series\n"
   ]
  },
  {
   "cell_type": "code",
   "execution_count": 170,
   "metadata": {
    "metadata": {}
   },
   "outputs": [
    {
     "name": "stdout",
     "output_type": "stream",
     "text": [
      "['creditorParticipant_ratio', 'creditorParticipant_currency_ratio', 'creditorParticipant_channel_ratio', 'creditorParticipant_responseCode_ratio', 'creditorParticipant_debtorParticipant_ratio', 'creditorParticipant_Weekday_ratio', 'creditorParticipant_time_interval_ratio', 'creditorParticipant_creditorCCI_ratio', 'currency_ratio', 'currency_channel_ratio', 'currency_responseCode_ratio', 'currency_debtorParticipant_ratio', 'currency_Weekday_ratio', 'currency_time_interval_ratio', 'currency_creditorCCI_ratio', 'channel_ratio', 'channel_responseCode_ratio', 'channel_debtorParticipant_ratio', 'channel_Weekday_ratio', 'channel_time_interval_ratio', 'channel_creditorCCI_ratio', 'responseCode_ratio', 'responseCode_debtorParticipant_ratio', 'responseCode_Weekday_ratio', 'responseCode_time_interval_ratio', 'responseCode_creditorCCI_ratio', 'debtorParticipant_ratio', 'debtorParticipant_Weekday_ratio', 'debtorParticipant_time_interval_ratio', 'debtorParticipant_creditorCCI_ratio', 'Weekday_ratio', 'Weekday_time_interval_ratio', 'Weekday_creditorCCI_ratio', 'time_interval_ratio', 'time_interval_creditorCCI_ratio', 'creditorCCI_ratio', 'hourSin', 'hourCos', 'dayOfYearSin', 'dayOfYearCos', 'dayOfMonthSin', 'dayOfMonthCos', 'dayOfWeekSin', 'dayOfWeekCos', 'debtorParticipant_bcp', 'debtorParticipant_interbank', 'debtorParticipant_citibank', 'debtorParticipant_scotiabank', 'debtorParticipant_bbva', 'debtorParticipant_banco_de_la_nacion', 'debtorParticipant_comercio', 'debtorParticipant_banco_pichincha', 'debtorParticipant_banbif', 'debtorParticipant_crediscotia_financiera', 'debtorParticipant_mi_banco', 'debtorParticipant_gnb', 'debtorParticipant_banco_falabella', 'debtorParticipant_banco_ripley', 'debtorParticipant_alfin_banco_s.a.', 'debtorParticipant_financiera_oh', 'debtorParticipant_financiera_efectiva', 'debtorParticipant_caja_piura', 'debtorParticipant_caja_trujillo', 'debtorParticipant_caja_arequipa', 'debtorParticipant_caja_sullana', 'debtorParticipant_caja_cusco', 'debtorParticipant_caja_huancayo', 'debtorParticipant_caja_ica', 'debtorParticipant_invalid', 'creditorParticipant_bcp', 'creditorParticipant_interbank', 'creditorParticipant_citibank', 'creditorParticipant_scotiabank', 'creditorParticipant_bbva', 'creditorParticipant_banco_de_la_nacion', 'creditorParticipant_comercio', 'creditorParticipant_banco_pichincha', 'creditorParticipant_banbif', 'creditorParticipant_crediscotia_financiera', 'creditorParticipant_mi_banco', 'creditorParticipant_gnb', 'creditorParticipant_banco_falabella', 'creditorParticipant_banco_ripley', 'creditorParticipant_alfin_banco_s.a.', 'creditorParticipant_financiera_oh', 'creditorParticipant_financiera_efectiva', 'creditorParticipant_caja_piura', 'creditorParticipant_caja_trujillo', 'creditorParticipant_caja_arequipa', 'creditorParticipant_caja_sullana', 'creditorParticipant_caja_cusco', 'creditorParticipant_caja_huancayo', 'creditorParticipant_caja_ica', 'creditorParticipant_invalid', 'currency_soles', 'channel_banca_movil', 'channel_invalid', 'channel_web', 'responseCode_rejected']\n",
      "['creditorParticipant_ratio', 'creditorParticipant_currency_ratio', 'creditorParticipant_channel_ratio', 'creditorParticipant_responseCode_ratio', 'creditorParticipant_debtorParticipant_ratio', 'creditorParticipant_Weekday_ratio', 'creditorParticipant_time_interval_ratio', 'creditorParticipant_creditorCCI_ratio', 'currency_ratio', 'currency_channel_ratio', 'currency_responseCode_ratio', 'currency_debtorParticipant_ratio', 'currency_Weekday_ratio', 'currency_time_interval_ratio', 'currency_creditorCCI_ratio', 'channel_ratio', 'channel_responseCode_ratio', 'channel_debtorParticipant_ratio', 'channel_Weekday_ratio', 'channel_time_interval_ratio', 'channel_creditorCCI_ratio', 'responseCode_ratio', 'responseCode_debtorParticipant_ratio', 'responseCode_Weekday_ratio', 'responseCode_time_interval_ratio', 'responseCode_creditorCCI_ratio', 'debtorParticipant_ratio', 'debtorParticipant_Weekday_ratio', 'debtorParticipant_time_interval_ratio', 'debtorParticipant_creditorCCI_ratio', 'Weekday_ratio', 'Weekday_time_interval_ratio', 'Weekday_creditorCCI_ratio', 'time_interval_ratio', 'time_interval_creditorCCI_ratio', 'creditorCCI_ratio', 'hourSin', 'hourCos', 'dayOfYearSin', 'dayOfYearCos', 'dayOfMonthSin', 'dayOfMonthCos', 'dayOfWeekSin', 'dayOfWeekCos', 'debtorParticipant_bcp', 'debtorParticipant_interbank', 'debtorParticipant_citibank', 'debtorParticipant_scotiabank', 'debtorParticipant_bbva', 'debtorParticipant_banco_de_la_nacion', 'debtorParticipant_comercio', 'debtorParticipant_banco_pichincha', 'debtorParticipant_banbif', 'debtorParticipant_crediscotia_financiera', 'debtorParticipant_mi_banco', 'debtorParticipant_gnb', 'debtorParticipant_banco_falabella', 'debtorParticipant_banco_ripley', 'debtorParticipant_alfin_banco_s.a.', 'debtorParticipant_financiera_oh', 'debtorParticipant_financiera_efectiva', 'debtorParticipant_caja_piura', 'debtorParticipant_caja_trujillo', 'debtorParticipant_caja_arequipa', 'debtorParticipant_caja_sullana', 'debtorParticipant_caja_cusco', 'debtorParticipant_caja_huancayo', 'debtorParticipant_caja_ica', 'debtorParticipant_invalid', 'creditorParticipant_bcp', 'creditorParticipant_interbank', 'creditorParticipant_citibank', 'creditorParticipant_scotiabank', 'creditorParticipant_bbva', 'creditorParticipant_banco_de_la_nacion', 'creditorParticipant_comercio', 'creditorParticipant_banco_pichincha', 'creditorParticipant_banbif', 'creditorParticipant_crediscotia_financiera', 'creditorParticipant_mi_banco', 'creditorParticipant_gnb', 'creditorParticipant_banco_falabella', 'creditorParticipant_banco_ripley', 'creditorParticipant_alfin_banco_s.a.', 'creditorParticipant_financiera_oh', 'creditorParticipant_financiera_efectiva', 'creditorParticipant_caja_piura', 'creditorParticipant_caja_trujillo', 'creditorParticipant_caja_arequipa', 'creditorParticipant_caja_sullana', 'creditorParticipant_caja_cusco', 'creditorParticipant_caja_huancayo', 'creditorParticipant_caja_ica', 'creditorParticipant_invalid', 'currency_soles', 'channel_banca_movil', 'channel_invalid', 'channel_web', 'responseCode_rejected']\n"
     ]
    }
   ],
   "source": [
    "AV = AV[variables].copy()\n",
    "print(AV.columns.tolist())\n",
    "y_pred_5 = predict_isolation_forest(AV, model5)\n",
    "    "
   ]
  },
  {
   "cell_type": "code",
   "execution_count": 172,
   "metadata": {
    "metadata": {}
   },
   "outputs": [
    {
     "data": {
      "text/plain": [
       "(5847,)"
      ]
     },
     "execution_count": 172,
     "metadata": {},
     "output_type": "execute_result"
    }
   ],
   "source": [
    "y_pred_5.shape"
   ]
  },
  {
   "cell_type": "code",
   "execution_count": 177,
   "metadata": {
    "metadata": {}
   },
   "outputs": [],
   "source": [
    "\n",
    "# Path to the directory to save the output of prediction\n",
    "y_pred_5.to_pickle(\"prediction_model_90_7M.pickle\")\n",
    "\n",
    "# Dataframe fraud_model_predict (features id + descriptive + rate + prediction)\n",
    "id_descriptive_features_list = \\\n",
    "['pk', 'debtorId', 'creditorCCI', 'creditorId', 'creditorIdCode', 'message_id', 'trace', 'instruction_id', 'run_id',\n",
    "    'creationDate', 'creationTime', 'channel', 'currency', 'creditorParticipant', 'debtorParticipant',\n",
    "    'debtorTypeOfPerson', 'transactionType', 'debtorIdCode', 'reasonCode', 'responseCode', ]\n",
    "rate_features_list = AV.filter(like=\"_ratio\").columns.to_list()\n",
    "\n",
    "df_fraud_model_predict = original_values_set[id_descriptive_features_list]\\\n",
    "    .merge(AV[rate_features_list], how=\"inner\", left_index=True, right_index=True)\n",
    "df_fraud_model_predict = df_fraud_model_predict\\\n",
    "    .merge(y_pred_5.rename(\"prediction\"), how=\"inner\", left_index=True, right_index=True)\n",
    "df_fraud_model_predict.columns=[\"pk\",\"debtor_id\",\"creditor_cci\",\"creditor_id\",\"creditor_id_code\",\"message_id\",\"trace\",\"instruction_id\",\"run_id\",\"creation_date\",\"creation_time\",\"channel\",\"currency\",\"creditor_participant\",\"debtor_participant\",\"debtor_type_of_person\",\"transaction_type\",\"debtor_id_code\",\"reason_code\",\"response_code\",\"creditor_participant_ratio\",\"creditor_participant_currency_ratio\",\"creditor_participant_channel_ratio\",\"creditor_participant_response_code_ratio\",\"creditor_participant_debtor_participant_ratio\",\"creditor_participant_weekday_ratio\",\"creditor_participant_time_interval_ratio\",\"creditor_participant_creditor_cci_ratio\",\"currency_ratio\",\"currency_channel_ratio\",\"currency_response_code_ratio\",\"currency_debtor_participant_ratio\",\"currency_weekday_ratio\",\"currency_time_interval_ratio\",\"currency_creditor_cci_ratio\",\"channel_ratio\",\"channel_response_code_ratio\",\"channel_debtor_participant_ratio\",\"channel_weekday_ratio\",\"channel_time_interval_ratio\",\"channel_creditor_cci_ratio\",\"response_code_ratio\",\"response_code_debtor_participant_ratio\",\"response_code_weekday_ratio\",\"response_code_time_interval_ratio\",\"response_code_creditor_cci_ratio\",\"debtor_participant_ratio\",\"debtor_participant_weekday_ratio\",\"debtor_participant_time_interval_ratio\",\"debtor_participant_creditor_cci_ratio\", \"weekday_ratio\",\"weekday_time_interval_ratio\",\"weekday_creditor_cci_ratio\",\"time_interval_ratio\",\"time_interval_creditor_cci_ratio\",\"creditor_cci_ratio\",\"prediction\"]    # Load predictions to table\n",
    "#df_fraud_model_predict[\"pk\"]=df_fraud_model_predict[\"pk\"]+\"_l1\"\n",
    "# load_predictions_to_database(df_fraud_model_predict)\n",
    "\n",
    "# Update process status\n",
    "# run_id = df_fraud_model_predict.run_id.max()\n",
    "\n",
    "# update_process_status_to_database(run_id,2,\"run_process_end_datetime\")"
   ]
  }
 ],
 "metadata": {
  "kernelspec": {
   "display_name": "mvp1",
   "language": "python",
   "name": "python3"
  },
  "language_info": {
   "codemirror_mode": {
    "name": "ipython",
    "version": 3
   },
   "file_extension": ".py",
   "mimetype": "text/x-python",
   "name": "python",
   "nbconvert_exporter": "python",
   "pygments_lexer": "ipython3",
   "version": "3.9.19"
  }
 },
 "nbformat": 4,
 "nbformat_minor": 2
}
